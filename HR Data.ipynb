{
 "cells": [
  {
   "cell_type": "markdown",
   "id": "78d88c87",
   "metadata": {},
   "source": [
    "\n",
    "# Data Preparation"
   ]
  },
  {
   "cell_type": "markdown",
   "id": "fca7198b",
   "metadata": {},
   "source": [
    "## Initial Setup\n",
    "\n",
    "First, necessary libraries and functionalities are imported:"
   ]
  },
  {
   "cell_type": "code",
   "execution_count": 45,
   "id": "d1ead595",
   "metadata": {},
   "outputs": [],
   "source": [
    "import numpy as np\n",
    "import pandas as pd\n",
    "import matplotlib.pyplot as plt\n",
    "import seaborn as sns\n",
    "\n",
    "%matplotlib inline"
   ]
  },
  {
   "cell_type": "markdown",
   "id": "4b9d83c0",
   "metadata": {},
   "source": [
    "The dataset of human resources employee information is loaded into a pandas data frame:"
   ]
  },
  {
   "cell_type": "code",
   "execution_count": 88,
   "id": "6af2775f",
   "metadata": {},
   "outputs": [
    {
     "data": {
      "text/html": [
       "<div>\n",
       "<style scoped>\n",
       "    .dataframe tbody tr th:only-of-type {\n",
       "        vertical-align: middle;\n",
       "    }\n",
       "\n",
       "    .dataframe tbody tr th {\n",
       "        vertical-align: top;\n",
       "    }\n",
       "\n",
       "    .dataframe thead th {\n",
       "        text-align: right;\n",
       "    }\n",
       "</style>\n",
       "<table border=\"1\" class=\"dataframe\">\n",
       "  <thead>\n",
       "    <tr style=\"text-align: right;\">\n",
       "      <th></th>\n",
       "      <th>Age</th>\n",
       "      <th>Attrition</th>\n",
       "      <th>BusinessTravel</th>\n",
       "      <th>DailyRate</th>\n",
       "      <th>Department</th>\n",
       "      <th>DistanceFromHome</th>\n",
       "      <th>Education</th>\n",
       "      <th>EducationField</th>\n",
       "      <th>EmployeeCount</th>\n",
       "      <th>EmployeeNumber</th>\n",
       "      <th>...</th>\n",
       "      <th>RelationshipSatisfaction</th>\n",
       "      <th>StandardHours</th>\n",
       "      <th>StockOptionLevel</th>\n",
       "      <th>TotalWorkingYears</th>\n",
       "      <th>TrainingTimesLastYear</th>\n",
       "      <th>WorkLifeBalance</th>\n",
       "      <th>YearsAtCompany</th>\n",
       "      <th>YearsInCurrentRole</th>\n",
       "      <th>YearsSinceLastPromotion</th>\n",
       "      <th>YearsWithCurrManager</th>\n",
       "    </tr>\n",
       "  </thead>\n",
       "  <tbody>\n",
       "    <tr>\n",
       "      <th>0</th>\n",
       "      <td>41</td>\n",
       "      <td>Yes</td>\n",
       "      <td>Travel_Rarely</td>\n",
       "      <td>1102</td>\n",
       "      <td>Sales</td>\n",
       "      <td>1</td>\n",
       "      <td>2</td>\n",
       "      <td>Life Sciences</td>\n",
       "      <td>1</td>\n",
       "      <td>1</td>\n",
       "      <td>...</td>\n",
       "      <td>1</td>\n",
       "      <td>80</td>\n",
       "      <td>0</td>\n",
       "      <td>8</td>\n",
       "      <td>0</td>\n",
       "      <td>1</td>\n",
       "      <td>6</td>\n",
       "      <td>4</td>\n",
       "      <td>0</td>\n",
       "      <td>5</td>\n",
       "    </tr>\n",
       "    <tr>\n",
       "      <th>1</th>\n",
       "      <td>49</td>\n",
       "      <td>No</td>\n",
       "      <td>Travel_Frequently</td>\n",
       "      <td>279</td>\n",
       "      <td>Research &amp; Development</td>\n",
       "      <td>8</td>\n",
       "      <td>1</td>\n",
       "      <td>Life Sciences</td>\n",
       "      <td>1</td>\n",
       "      <td>2</td>\n",
       "      <td>...</td>\n",
       "      <td>4</td>\n",
       "      <td>80</td>\n",
       "      <td>1</td>\n",
       "      <td>10</td>\n",
       "      <td>3</td>\n",
       "      <td>3</td>\n",
       "      <td>10</td>\n",
       "      <td>7</td>\n",
       "      <td>1</td>\n",
       "      <td>7</td>\n",
       "    </tr>\n",
       "    <tr>\n",
       "      <th>2</th>\n",
       "      <td>37</td>\n",
       "      <td>Yes</td>\n",
       "      <td>Travel_Rarely</td>\n",
       "      <td>1373</td>\n",
       "      <td>Research &amp; Development</td>\n",
       "      <td>2</td>\n",
       "      <td>2</td>\n",
       "      <td>Other</td>\n",
       "      <td>1</td>\n",
       "      <td>4</td>\n",
       "      <td>...</td>\n",
       "      <td>2</td>\n",
       "      <td>80</td>\n",
       "      <td>0</td>\n",
       "      <td>7</td>\n",
       "      <td>3</td>\n",
       "      <td>3</td>\n",
       "      <td>0</td>\n",
       "      <td>0</td>\n",
       "      <td>0</td>\n",
       "      <td>0</td>\n",
       "    </tr>\n",
       "    <tr>\n",
       "      <th>3</th>\n",
       "      <td>33</td>\n",
       "      <td>No</td>\n",
       "      <td>Travel_Frequently</td>\n",
       "      <td>1392</td>\n",
       "      <td>Research &amp; Development</td>\n",
       "      <td>3</td>\n",
       "      <td>4</td>\n",
       "      <td>Life Sciences</td>\n",
       "      <td>1</td>\n",
       "      <td>5</td>\n",
       "      <td>...</td>\n",
       "      <td>3</td>\n",
       "      <td>80</td>\n",
       "      <td>0</td>\n",
       "      <td>8</td>\n",
       "      <td>3</td>\n",
       "      <td>3</td>\n",
       "      <td>8</td>\n",
       "      <td>7</td>\n",
       "      <td>3</td>\n",
       "      <td>0</td>\n",
       "    </tr>\n",
       "    <tr>\n",
       "      <th>4</th>\n",
       "      <td>27</td>\n",
       "      <td>No</td>\n",
       "      <td>Travel_Rarely</td>\n",
       "      <td>591</td>\n",
       "      <td>Research &amp; Development</td>\n",
       "      <td>2</td>\n",
       "      <td>1</td>\n",
       "      <td>Medical</td>\n",
       "      <td>1</td>\n",
       "      <td>7</td>\n",
       "      <td>...</td>\n",
       "      <td>4</td>\n",
       "      <td>80</td>\n",
       "      <td>1</td>\n",
       "      <td>6</td>\n",
       "      <td>3</td>\n",
       "      <td>3</td>\n",
       "      <td>2</td>\n",
       "      <td>2</td>\n",
       "      <td>2</td>\n",
       "      <td>2</td>\n",
       "    </tr>\n",
       "    <tr>\n",
       "      <th>...</th>\n",
       "      <td>...</td>\n",
       "      <td>...</td>\n",
       "      <td>...</td>\n",
       "      <td>...</td>\n",
       "      <td>...</td>\n",
       "      <td>...</td>\n",
       "      <td>...</td>\n",
       "      <td>...</td>\n",
       "      <td>...</td>\n",
       "      <td>...</td>\n",
       "      <td>...</td>\n",
       "      <td>...</td>\n",
       "      <td>...</td>\n",
       "      <td>...</td>\n",
       "      <td>...</td>\n",
       "      <td>...</td>\n",
       "      <td>...</td>\n",
       "      <td>...</td>\n",
       "      <td>...</td>\n",
       "      <td>...</td>\n",
       "      <td>...</td>\n",
       "    </tr>\n",
       "    <tr>\n",
       "      <th>1465</th>\n",
       "      <td>36</td>\n",
       "      <td>No</td>\n",
       "      <td>Travel_Frequently</td>\n",
       "      <td>884</td>\n",
       "      <td>Research &amp; Development</td>\n",
       "      <td>23</td>\n",
       "      <td>2</td>\n",
       "      <td>Medical</td>\n",
       "      <td>1</td>\n",
       "      <td>2061</td>\n",
       "      <td>...</td>\n",
       "      <td>3</td>\n",
       "      <td>80</td>\n",
       "      <td>1</td>\n",
       "      <td>17</td>\n",
       "      <td>3</td>\n",
       "      <td>3</td>\n",
       "      <td>5</td>\n",
       "      <td>2</td>\n",
       "      <td>0</td>\n",
       "      <td>3</td>\n",
       "    </tr>\n",
       "    <tr>\n",
       "      <th>1466</th>\n",
       "      <td>39</td>\n",
       "      <td>No</td>\n",
       "      <td>Travel_Rarely</td>\n",
       "      <td>613</td>\n",
       "      <td>Research &amp; Development</td>\n",
       "      <td>6</td>\n",
       "      <td>1</td>\n",
       "      <td>Medical</td>\n",
       "      <td>1</td>\n",
       "      <td>2062</td>\n",
       "      <td>...</td>\n",
       "      <td>1</td>\n",
       "      <td>80</td>\n",
       "      <td>1</td>\n",
       "      <td>9</td>\n",
       "      <td>5</td>\n",
       "      <td>3</td>\n",
       "      <td>7</td>\n",
       "      <td>7</td>\n",
       "      <td>1</td>\n",
       "      <td>7</td>\n",
       "    </tr>\n",
       "    <tr>\n",
       "      <th>1467</th>\n",
       "      <td>27</td>\n",
       "      <td>No</td>\n",
       "      <td>Travel_Rarely</td>\n",
       "      <td>155</td>\n",
       "      <td>Research &amp; Development</td>\n",
       "      <td>4</td>\n",
       "      <td>3</td>\n",
       "      <td>Life Sciences</td>\n",
       "      <td>1</td>\n",
       "      <td>2064</td>\n",
       "      <td>...</td>\n",
       "      <td>2</td>\n",
       "      <td>80</td>\n",
       "      <td>1</td>\n",
       "      <td>6</td>\n",
       "      <td>0</td>\n",
       "      <td>3</td>\n",
       "      <td>6</td>\n",
       "      <td>2</td>\n",
       "      <td>0</td>\n",
       "      <td>3</td>\n",
       "    </tr>\n",
       "    <tr>\n",
       "      <th>1468</th>\n",
       "      <td>49</td>\n",
       "      <td>No</td>\n",
       "      <td>Travel_Frequently</td>\n",
       "      <td>1023</td>\n",
       "      <td>Sales</td>\n",
       "      <td>2</td>\n",
       "      <td>3</td>\n",
       "      <td>Medical</td>\n",
       "      <td>1</td>\n",
       "      <td>2065</td>\n",
       "      <td>...</td>\n",
       "      <td>4</td>\n",
       "      <td>80</td>\n",
       "      <td>0</td>\n",
       "      <td>17</td>\n",
       "      <td>3</td>\n",
       "      <td>2</td>\n",
       "      <td>9</td>\n",
       "      <td>6</td>\n",
       "      <td>0</td>\n",
       "      <td>8</td>\n",
       "    </tr>\n",
       "    <tr>\n",
       "      <th>1469</th>\n",
       "      <td>34</td>\n",
       "      <td>No</td>\n",
       "      <td>Travel_Rarely</td>\n",
       "      <td>628</td>\n",
       "      <td>Research &amp; Development</td>\n",
       "      <td>8</td>\n",
       "      <td>3</td>\n",
       "      <td>Medical</td>\n",
       "      <td>1</td>\n",
       "      <td>2068</td>\n",
       "      <td>...</td>\n",
       "      <td>1</td>\n",
       "      <td>80</td>\n",
       "      <td>0</td>\n",
       "      <td>6</td>\n",
       "      <td>3</td>\n",
       "      <td>4</td>\n",
       "      <td>4</td>\n",
       "      <td>3</td>\n",
       "      <td>1</td>\n",
       "      <td>2</td>\n",
       "    </tr>\n",
       "  </tbody>\n",
       "</table>\n",
       "<p>1470 rows × 35 columns</p>\n",
       "</div>"
      ],
      "text/plain": [
       "      Age Attrition     BusinessTravel  DailyRate              Department  \\\n",
       "0      41       Yes      Travel_Rarely       1102                   Sales   \n",
       "1      49        No  Travel_Frequently        279  Research & Development   \n",
       "2      37       Yes      Travel_Rarely       1373  Research & Development   \n",
       "3      33        No  Travel_Frequently       1392  Research & Development   \n",
       "4      27        No      Travel_Rarely        591  Research & Development   \n",
       "...   ...       ...                ...        ...                     ...   \n",
       "1465   36        No  Travel_Frequently        884  Research & Development   \n",
       "1466   39        No      Travel_Rarely        613  Research & Development   \n",
       "1467   27        No      Travel_Rarely        155  Research & Development   \n",
       "1468   49        No  Travel_Frequently       1023                   Sales   \n",
       "1469   34        No      Travel_Rarely        628  Research & Development   \n",
       "\n",
       "      DistanceFromHome  Education EducationField  EmployeeCount  \\\n",
       "0                    1          2  Life Sciences              1   \n",
       "1                    8          1  Life Sciences              1   \n",
       "2                    2          2          Other              1   \n",
       "3                    3          4  Life Sciences              1   \n",
       "4                    2          1        Medical              1   \n",
       "...                ...        ...            ...            ...   \n",
       "1465                23          2        Medical              1   \n",
       "1466                 6          1        Medical              1   \n",
       "1467                 4          3  Life Sciences              1   \n",
       "1468                 2          3        Medical              1   \n",
       "1469                 8          3        Medical              1   \n",
       "\n",
       "      EmployeeNumber  ...  RelationshipSatisfaction StandardHours  \\\n",
       "0                  1  ...                         1            80   \n",
       "1                  2  ...                         4            80   \n",
       "2                  4  ...                         2            80   \n",
       "3                  5  ...                         3            80   \n",
       "4                  7  ...                         4            80   \n",
       "...              ...  ...                       ...           ...   \n",
       "1465            2061  ...                         3            80   \n",
       "1466            2062  ...                         1            80   \n",
       "1467            2064  ...                         2            80   \n",
       "1468            2065  ...                         4            80   \n",
       "1469            2068  ...                         1            80   \n",
       "\n",
       "      StockOptionLevel  TotalWorkingYears  TrainingTimesLastYear  \\\n",
       "0                    0                  8                      0   \n",
       "1                    1                 10                      3   \n",
       "2                    0                  7                      3   \n",
       "3                    0                  8                      3   \n",
       "4                    1                  6                      3   \n",
       "...                ...                ...                    ...   \n",
       "1465                 1                 17                      3   \n",
       "1466                 1                  9                      5   \n",
       "1467                 1                  6                      0   \n",
       "1468                 0                 17                      3   \n",
       "1469                 0                  6                      3   \n",
       "\n",
       "     WorkLifeBalance  YearsAtCompany YearsInCurrentRole  \\\n",
       "0                  1               6                  4   \n",
       "1                  3              10                  7   \n",
       "2                  3               0                  0   \n",
       "3                  3               8                  7   \n",
       "4                  3               2                  2   \n",
       "...              ...             ...                ...   \n",
       "1465               3               5                  2   \n",
       "1466               3               7                  7   \n",
       "1467               3               6                  2   \n",
       "1468               2               9                  6   \n",
       "1469               4               4                  3   \n",
       "\n",
       "      YearsSinceLastPromotion  YearsWithCurrManager  \n",
       "0                           0                     5  \n",
       "1                           1                     7  \n",
       "2                           0                     0  \n",
       "3                           3                     0  \n",
       "4                           2                     2  \n",
       "...                       ...                   ...  \n",
       "1465                        0                     3  \n",
       "1466                        1                     7  \n",
       "1467                        0                     3  \n",
       "1468                        0                     8  \n",
       "1469                        1                     2  \n",
       "\n",
       "[1470 rows x 35 columns]"
      ]
     },
     "execution_count": 88,
     "metadata": {},
     "output_type": "execute_result"
    }
   ],
   "source": [
    "\n",
    "employee_data = pd.read_csv('HR Data.csv')\n",
    "employee_data"
   ]
  },
  {
   "cell_type": "markdown",
   "id": "e7e3f7cf",
   "metadata": {},
   "source": [
    "Now that the data is loaded, some features of the data can be explored:"
   ]
  },
  {
   "cell_type": "code",
   "execution_count": 47,
   "id": "b39f7bbf",
   "metadata": {},
   "outputs": [
    {
     "name": "stdout",
     "output_type": "stream",
     "text": [
      "<class 'pandas.core.frame.DataFrame'>\n",
      "RangeIndex: 1470 entries, 0 to 1469\n",
      "Data columns (total 35 columns):\n",
      " #   Column                    Non-Null Count  Dtype \n",
      "---  ------                    --------------  ----- \n",
      " 0   Age                       1470 non-null   int64 \n",
      " 1   Attrition                 1470 non-null   object\n",
      " 2   BusinessTravel            1470 non-null   object\n",
      " 3   DailyRate                 1470 non-null   int64 \n",
      " 4   Department                1470 non-null   object\n",
      " 5   DistanceFromHome          1470 non-null   int64 \n",
      " 6   Education                 1470 non-null   int64 \n",
      " 7   EducationField            1470 non-null   object\n",
      " 8   EmployeeCount             1470 non-null   int64 \n",
      " 9   EmployeeNumber            1470 non-null   int64 \n",
      " 10  EnvironmentSatisfaction   1470 non-null   int64 \n",
      " 11  Gender                    1470 non-null   object\n",
      " 12  HourlyRate                1470 non-null   int64 \n",
      " 13  JobInvolvement            1470 non-null   int64 \n",
      " 14  JobLevel                  1470 non-null   int64 \n",
      " 15  JobRole                   1470 non-null   object\n",
      " 16  JobSatisfaction           1470 non-null   int64 \n",
      " 17  MaritalStatus             1470 non-null   object\n",
      " 18  MonthlyIncome             1470 non-null   int64 \n",
      " 19  MonthlyRate               1470 non-null   int64 \n",
      " 20  NumCompaniesWorked        1470 non-null   int64 \n",
      " 21  Over18                    1470 non-null   object\n",
      " 22  OverTime                  1470 non-null   object\n",
      " 23  PercentSalaryHike         1470 non-null   int64 \n",
      " 24  PerformanceRating         1470 non-null   int64 \n",
      " 25  RelationshipSatisfaction  1470 non-null   int64 \n",
      " 26  StandardHours             1470 non-null   int64 \n",
      " 27  StockOptionLevel          1470 non-null   int64 \n",
      " 28  TotalWorkingYears         1470 non-null   int64 \n",
      " 29  TrainingTimesLastYear     1470 non-null   int64 \n",
      " 30  WorkLifeBalance           1470 non-null   int64 \n",
      " 31  YearsAtCompany            1470 non-null   int64 \n",
      " 32  YearsInCurrentRole        1470 non-null   int64 \n",
      " 33  YearsSinceLastPromotion   1470 non-null   int64 \n",
      " 34  YearsWithCurrManager      1470 non-null   int64 \n",
      "dtypes: int64(26), object(9)\n",
      "memory usage: 402.1+ KB\n"
     ]
    }
   ],
   "source": [
    "employee_data.info()"
   ]
  },
  {
   "cell_type": "code",
   "execution_count": 48,
   "id": "cc8f29bb",
   "metadata": {},
   "outputs": [
    {
     "data": {
      "text/plain": [
       "Age                         0\n",
       "Attrition                   0\n",
       "BusinessTravel              0\n",
       "DailyRate                   0\n",
       "Department                  0\n",
       "DistanceFromHome            0\n",
       "Education                   0\n",
       "EducationField              0\n",
       "EmployeeCount               0\n",
       "EmployeeNumber              0\n",
       "EnvironmentSatisfaction     0\n",
       "Gender                      0\n",
       "HourlyRate                  0\n",
       "JobInvolvement              0\n",
       "JobLevel                    0\n",
       "JobRole                     0\n",
       "JobSatisfaction             0\n",
       "MaritalStatus               0\n",
       "MonthlyIncome               0\n",
       "MonthlyRate                 0\n",
       "NumCompaniesWorked          0\n",
       "Over18                      0\n",
       "OverTime                    0\n",
       "PercentSalaryHike           0\n",
       "PerformanceRating           0\n",
       "RelationshipSatisfaction    0\n",
       "StandardHours               0\n",
       "StockOptionLevel            0\n",
       "TotalWorkingYears           0\n",
       "TrainingTimesLastYear       0\n",
       "WorkLifeBalance             0\n",
       "YearsAtCompany              0\n",
       "YearsInCurrentRole          0\n",
       "YearsSinceLastPromotion     0\n",
       "YearsWithCurrManager        0\n",
       "dtype: int64"
      ]
     },
     "execution_count": 48,
     "metadata": {},
     "output_type": "execute_result"
    }
   ],
   "source": [
    "employee_data.isnull().sum()"
   ]
  },
  {
   "cell_type": "markdown",
   "id": "3fb5c1aa",
   "metadata": {},
   "source": [
    "The dataset includes **35 columns** of both numeric (26 variables) and categorical data (9 variables). There are **1470 entries** in total, and, significantly, **no null values** in the dataset - this is valuable, as the random forest algorithm cannot process null values and these missing values would need to be addressed."
   ]
  },
  {
   "cell_type": "markdown",
   "id": "20799286",
   "metadata": {},
   "source": [
    "## Data Cleaning\n",
    "\n",
    "The first step of data cleaning will be to remove personally identifying information, as well as any variables that, if used to make predictions or business decisions, might be considered discriminatory.\n",
    "\n",
    "In this case 'employee number', 'age', 'gender', and 'marital status' are dropped from the dataset."
   ]
  },
  {
   "cell_type": "code",
   "execution_count": 49,
   "id": "02b5b9a5",
   "metadata": {},
   "outputs": [],
   "source": [
    "employee_data.drop(['EmployeeNumber','Age','Gender','MaritalStatus'],axis=1,inplace=True)"
   ]
  },
  {
   "cell_type": "markdown",
   "id": "bc6a655f",
   "metadata": {},
   "source": [
    "Each of the remaining variables is examined to determine if any can be removed as having no predictive value.\n",
    "\n",
    "Each variable is determined to be either numeric or categorical, then either the range of numbers or the categorical values are listed:"
   ]
  },
  {
   "cell_type": "code",
   "execution_count": 50,
   "id": "468efe9f",
   "metadata": {},
   "outputs": [
    {
     "name": "stdout",
     "output_type": "stream",
     "text": [
      "Attrition\n",
      "Categorical.  Values: ['Yes' 'No']\n",
      "\n",
      "BusinessTravel\n",
      "Categorical.  Values: ['Travel_Rarely' 'Travel_Frequently' 'Non-Travel']\n",
      "\n",
      "DailyRate\n",
      "Numeric.  Range: 102 to 1499\n",
      "\n",
      "Department\n",
      "Categorical.  Values: ['Sales' 'Research & Development' 'Human Resources']\n",
      "\n",
      "DistanceFromHome\n",
      "Numeric.  Range: 1 to 29\n",
      "\n",
      "Education\n",
      "Numeric.  Range: 1 to 5\n",
      "\n",
      "EducationField\n",
      "Categorical.  Values: ['Life Sciences' 'Other' 'Medical' 'Marketing' 'Technical Degree'\n",
      " 'Human Resources']\n",
      "\n",
      "EmployeeCount\n",
      "Numeric.  Range: 1 to 1\n",
      "\n",
      "EnvironmentSatisfaction\n",
      "Numeric.  Range: 1 to 4\n",
      "\n",
      "HourlyRate\n",
      "Numeric.  Range: 30 to 100\n",
      "\n",
      "JobInvolvement\n",
      "Numeric.  Range: 1 to 4\n",
      "\n",
      "JobLevel\n",
      "Numeric.  Range: 1 to 5\n",
      "\n",
      "JobRole\n",
      "Categorical.  Values: ['Sales Executive' 'Research Scientist' 'Laboratory Technician'\n",
      " 'Manufacturing Director' 'Healthcare Representative' 'Manager'\n",
      " 'Sales Representative' 'Research Director' 'Human Resources']\n",
      "\n",
      "JobSatisfaction\n",
      "Numeric.  Range: 1 to 4\n",
      "\n",
      "MonthlyIncome\n",
      "Numeric.  Range: 1009 to 19999\n",
      "\n",
      "MonthlyRate\n",
      "Numeric.  Range: 2094 to 26999\n",
      "\n",
      "NumCompaniesWorked\n",
      "Numeric.  Range: 0 to 9\n",
      "\n",
      "Over18\n",
      "Categorical.  Values: ['Y']\n",
      "\n",
      "OverTime\n",
      "Categorical.  Values: ['Yes' 'No']\n",
      "\n",
      "PercentSalaryHike\n",
      "Numeric.  Range: 11 to 25\n",
      "\n",
      "PerformanceRating\n",
      "Numeric.  Range: 3 to 4\n",
      "\n",
      "RelationshipSatisfaction\n",
      "Numeric.  Range: 1 to 4\n",
      "\n",
      "StandardHours\n",
      "Numeric.  Range: 80 to 80\n",
      "\n",
      "StockOptionLevel\n",
      "Numeric.  Range: 0 to 3\n",
      "\n",
      "TotalWorkingYears\n",
      "Numeric.  Range: 0 to 40\n",
      "\n",
      "TrainingTimesLastYear\n",
      "Numeric.  Range: 0 to 6\n",
      "\n",
      "WorkLifeBalance\n",
      "Numeric.  Range: 1 to 4\n",
      "\n",
      "YearsAtCompany\n",
      "Numeric.  Range: 0 to 40\n",
      "\n",
      "YearsInCurrentRole\n",
      "Numeric.  Range: 0 to 18\n",
      "\n",
      "YearsSinceLastPromotion\n",
      "Numeric.  Range: 0 to 15\n",
      "\n",
      "YearsWithCurrManager\n",
      "Numeric.  Range: 0 to 17\n",
      "\n"
     ]
    }
   ],
   "source": [
    "for attribute in employee_data.columns:\n",
    "    print(attribute)\n",
    "    if employee_data[attribute].dtype == object:\n",
    "        print('Categorical.  Values: {}\\n'.format(employee_data[attribute].unique()))\n",
    "    else:\n",
    "        print('Numeric.  Range: {} to {}\\n'.format(employee_data[attribute].min(),employee_data[attribute].max()))"
   ]
  },
  {
   "cell_type": "markdown",
   "id": "ce0ec1da",
   "metadata": {},
   "source": [
    "The variables 'employee count', 'over 18', and 'standard hours' have the same value for all employees and thus have no predictive value.\n",
    "\n",
    "These variables are dropped from the dataset:"
   ]
  },
  {
   "cell_type": "code",
   "execution_count": 51,
   "id": "17699e1f",
   "metadata": {},
   "outputs": [],
   "source": [
    "employee_data.drop(['EmployeeCount','Over18','StandardHours'],axis=1,inplace=True)"
   ]
  },
  {
   "cell_type": "markdown",
   "id": "7650b7f7",
   "metadata": {},
   "source": [
    "The top few rows of the reduced data set:"
   ]
  },
  {
   "cell_type": "code",
   "execution_count": 52,
   "id": "e4ebd1a5",
   "metadata": {},
   "outputs": [
    {
     "data": {
      "text/html": [
       "<div>\n",
       "<style scoped>\n",
       "    .dataframe tbody tr th:only-of-type {\n",
       "        vertical-align: middle;\n",
       "    }\n",
       "\n",
       "    .dataframe tbody tr th {\n",
       "        vertical-align: top;\n",
       "    }\n",
       "\n",
       "    .dataframe thead th {\n",
       "        text-align: right;\n",
       "    }\n",
       "</style>\n",
       "<table border=\"1\" class=\"dataframe\">\n",
       "  <thead>\n",
       "    <tr style=\"text-align: right;\">\n",
       "      <th></th>\n",
       "      <th>Attrition</th>\n",
       "      <th>BusinessTravel</th>\n",
       "      <th>DailyRate</th>\n",
       "      <th>Department</th>\n",
       "      <th>DistanceFromHome</th>\n",
       "      <th>Education</th>\n",
       "      <th>EducationField</th>\n",
       "      <th>EnvironmentSatisfaction</th>\n",
       "      <th>HourlyRate</th>\n",
       "      <th>JobInvolvement</th>\n",
       "      <th>...</th>\n",
       "      <th>PerformanceRating</th>\n",
       "      <th>RelationshipSatisfaction</th>\n",
       "      <th>StockOptionLevel</th>\n",
       "      <th>TotalWorkingYears</th>\n",
       "      <th>TrainingTimesLastYear</th>\n",
       "      <th>WorkLifeBalance</th>\n",
       "      <th>YearsAtCompany</th>\n",
       "      <th>YearsInCurrentRole</th>\n",
       "      <th>YearsSinceLastPromotion</th>\n",
       "      <th>YearsWithCurrManager</th>\n",
       "    </tr>\n",
       "  </thead>\n",
       "  <tbody>\n",
       "    <tr>\n",
       "      <th>0</th>\n",
       "      <td>Yes</td>\n",
       "      <td>Travel_Rarely</td>\n",
       "      <td>1102</td>\n",
       "      <td>Sales</td>\n",
       "      <td>1</td>\n",
       "      <td>2</td>\n",
       "      <td>Life Sciences</td>\n",
       "      <td>2</td>\n",
       "      <td>94</td>\n",
       "      <td>3</td>\n",
       "      <td>...</td>\n",
       "      <td>3</td>\n",
       "      <td>1</td>\n",
       "      <td>0</td>\n",
       "      <td>8</td>\n",
       "      <td>0</td>\n",
       "      <td>1</td>\n",
       "      <td>6</td>\n",
       "      <td>4</td>\n",
       "      <td>0</td>\n",
       "      <td>5</td>\n",
       "    </tr>\n",
       "    <tr>\n",
       "      <th>1</th>\n",
       "      <td>No</td>\n",
       "      <td>Travel_Frequently</td>\n",
       "      <td>279</td>\n",
       "      <td>Research &amp; Development</td>\n",
       "      <td>8</td>\n",
       "      <td>1</td>\n",
       "      <td>Life Sciences</td>\n",
       "      <td>3</td>\n",
       "      <td>61</td>\n",
       "      <td>2</td>\n",
       "      <td>...</td>\n",
       "      <td>4</td>\n",
       "      <td>4</td>\n",
       "      <td>1</td>\n",
       "      <td>10</td>\n",
       "      <td>3</td>\n",
       "      <td>3</td>\n",
       "      <td>10</td>\n",
       "      <td>7</td>\n",
       "      <td>1</td>\n",
       "      <td>7</td>\n",
       "    </tr>\n",
       "    <tr>\n",
       "      <th>2</th>\n",
       "      <td>Yes</td>\n",
       "      <td>Travel_Rarely</td>\n",
       "      <td>1373</td>\n",
       "      <td>Research &amp; Development</td>\n",
       "      <td>2</td>\n",
       "      <td>2</td>\n",
       "      <td>Other</td>\n",
       "      <td>4</td>\n",
       "      <td>92</td>\n",
       "      <td>2</td>\n",
       "      <td>...</td>\n",
       "      <td>3</td>\n",
       "      <td>2</td>\n",
       "      <td>0</td>\n",
       "      <td>7</td>\n",
       "      <td>3</td>\n",
       "      <td>3</td>\n",
       "      <td>0</td>\n",
       "      <td>0</td>\n",
       "      <td>0</td>\n",
       "      <td>0</td>\n",
       "    </tr>\n",
       "    <tr>\n",
       "      <th>3</th>\n",
       "      <td>No</td>\n",
       "      <td>Travel_Frequently</td>\n",
       "      <td>1392</td>\n",
       "      <td>Research &amp; Development</td>\n",
       "      <td>3</td>\n",
       "      <td>4</td>\n",
       "      <td>Life Sciences</td>\n",
       "      <td>4</td>\n",
       "      <td>56</td>\n",
       "      <td>3</td>\n",
       "      <td>...</td>\n",
       "      <td>3</td>\n",
       "      <td>3</td>\n",
       "      <td>0</td>\n",
       "      <td>8</td>\n",
       "      <td>3</td>\n",
       "      <td>3</td>\n",
       "      <td>8</td>\n",
       "      <td>7</td>\n",
       "      <td>3</td>\n",
       "      <td>0</td>\n",
       "    </tr>\n",
       "    <tr>\n",
       "      <th>4</th>\n",
       "      <td>No</td>\n",
       "      <td>Travel_Rarely</td>\n",
       "      <td>591</td>\n",
       "      <td>Research &amp; Development</td>\n",
       "      <td>2</td>\n",
       "      <td>1</td>\n",
       "      <td>Medical</td>\n",
       "      <td>1</td>\n",
       "      <td>40</td>\n",
       "      <td>3</td>\n",
       "      <td>...</td>\n",
       "      <td>3</td>\n",
       "      <td>4</td>\n",
       "      <td>1</td>\n",
       "      <td>6</td>\n",
       "      <td>3</td>\n",
       "      <td>3</td>\n",
       "      <td>2</td>\n",
       "      <td>2</td>\n",
       "      <td>2</td>\n",
       "      <td>2</td>\n",
       "    </tr>\n",
       "  </tbody>\n",
       "</table>\n",
       "<p>5 rows × 28 columns</p>\n",
       "</div>"
      ],
      "text/plain": [
       "  Attrition     BusinessTravel  DailyRate              Department  \\\n",
       "0       Yes      Travel_Rarely       1102                   Sales   \n",
       "1        No  Travel_Frequently        279  Research & Development   \n",
       "2       Yes      Travel_Rarely       1373  Research & Development   \n",
       "3        No  Travel_Frequently       1392  Research & Development   \n",
       "4        No      Travel_Rarely        591  Research & Development   \n",
       "\n",
       "   DistanceFromHome  Education EducationField  EnvironmentSatisfaction  \\\n",
       "0                 1          2  Life Sciences                        2   \n",
       "1                 8          1  Life Sciences                        3   \n",
       "2                 2          2          Other                        4   \n",
       "3                 3          4  Life Sciences                        4   \n",
       "4                 2          1        Medical                        1   \n",
       "\n",
       "   HourlyRate  JobInvolvement  ...  PerformanceRating  \\\n",
       "0          94               3  ...                  3   \n",
       "1          61               2  ...                  4   \n",
       "2          92               2  ...                  3   \n",
       "3          56               3  ...                  3   \n",
       "4          40               3  ...                  3   \n",
       "\n",
       "  RelationshipSatisfaction  StockOptionLevel  TotalWorkingYears  \\\n",
       "0                        1                 0                  8   \n",
       "1                        4                 1                 10   \n",
       "2                        2                 0                  7   \n",
       "3                        3                 0                  8   \n",
       "4                        4                 1                  6   \n",
       "\n",
       "   TrainingTimesLastYear  WorkLifeBalance YearsAtCompany  YearsInCurrentRole  \\\n",
       "0                      0                1              6                   4   \n",
       "1                      3                3             10                   7   \n",
       "2                      3                3              0                   0   \n",
       "3                      3                3              8                   7   \n",
       "4                      3                3              2                   2   \n",
       "\n",
       "   YearsSinceLastPromotion  YearsWithCurrManager  \n",
       "0                        0                     5  \n",
       "1                        1                     7  \n",
       "2                        0                     0  \n",
       "3                        3                     0  \n",
       "4                        2                     2  \n",
       "\n",
       "[5 rows x 28 columns]"
      ]
     },
     "execution_count": 52,
     "metadata": {},
     "output_type": "execute_result"
    }
   ],
   "source": [
    "employee_data.head()"
   ]
  },
  {
   "cell_type": "markdown",
   "id": "3883cfac",
   "metadata": {},
   "source": [
    "**After data cleaning there are 1470 entries, with 28 remaining variables**\n",
    "\n",
    "## Exploratory Data Analysis\n",
    "\n",
    "Now some exploratory visualizations of the data can begin, to provide a better understanding of the data and inform any futher data wrangling that should be done before the dataset is ready to be used by a machine learning algorithm.\n",
    "\n",
    "**'Attrition' is the target variable** (the variable the model will be created to predict). A simple count plot of this variable:"
   ]
  },
  {
   "cell_type": "code",
   "execution_count": 53,
   "id": "9013552b",
   "metadata": {},
   "outputs": [
    {
     "data": {
      "text/plain": [
       "<Axes: xlabel='Attrition', ylabel='count'>"
      ]
     },
     "execution_count": 53,
     "metadata": {},
     "output_type": "execute_result"
    },
    {
     "data": {
      "image/png": "[encoded data removed]",
      "text/plain": [
       "<Figure size 640x480 with 1 Axes>"
      ]
     },
     "metadata": {},
     "output_type": "display_data"
    }
   ],
   "source": [
    "sns.set_theme() #sets the default seaborn theme\n",
    "sns.countplot(data=employee_data,x='Attrition',palette='crest')"
   ]
  },
  {
   "cell_type": "markdown",
   "id": "627af958",
   "metadata": {},
   "source": [
    "This graph shows that attrition is a boolean value, with a large disparity between the two predictive outcomes, meaning that this will be an **unbalanced binary classification** task.\n",
    "\n",
    "While the other categorical variables will need to be converted to numeric later, it will be useful to convert attrition to a numeric boolean value now:"
   ]
  },
  {
   "cell_type": "code",
   "execution_count": 54,
   "id": "73ffe641",
   "metadata": {},
   "outputs": [],
   "source": [
    "employee_data['Attrition'] = employee_data['Attrition'].apply(lambda val: 1 if val == 'Yes' else 0)"
   ]
  },
  {
   "cell_type": "markdown",
   "id": "1a1e9557",
   "metadata": {},
   "source": [
    "A visual inspection of correlations between the numeric variables:"
   ]
  },
  {
   "cell_type": "code",
   "execution_count": 55,
   "id": "90048517",
   "metadata": {},
   "outputs": [
    {
     "name": "stderr",
     "output_type": "stream",
     "text": [
      "C:\\Users\\Shefali\\AppData\\Local\\Temp\\ipykernel_32780\\3441735041.py:1: FutureWarning: The default value of numeric_only in DataFrame.corr is deprecated. In a future version, it will default to False. Select only valid columns or specify the value of numeric_only to silence this warning.\n",
      "  employee_data.corr()\n",
      "C:\\Users\\Shefali\\AppData\\Local\\Temp\\ipykernel_32780\\3441735041.py:2: FutureWarning: The default value of numeric_only in DataFrame.corr is deprecated. In a future version, it will default to False. Select only valid columns or specify the value of numeric_only to silence this warning.\n",
      "  sns.clustermap(data=employee_data.corr(),vmin=-1,cmap='coolwarm')\n"
     ]
    },
    {
     "data": {
      "text/plain": [
       "<seaborn.matrix.ClusterGrid at 0x1b70b778850>"
      ]
     },
     "execution_count": 55,
     "metadata": {},
     "output_type": "execute_result"
    },
    {
     "data": {
      "image/png": "[encoded data removed]",
      "text/plain": [
       "<Figure size 1000x1000 with 4 Axes>"
      ]
     },
     "metadata": {},
     "output_type": "display_data"
    }
   ],
   "source": [
    "employee_data.corr()\n",
    "sns.clustermap(data=employee_data.corr(),vmin=-1,cmap='coolwarm')"
   ]
  },
  {
   "cell_type": "markdown",
   "id": "5d357901",
   "metadata": {},
   "source": [
    "There are several clusters of correlation that become apparent from this graph, however, none of these correlations seem to be indicating that multiple variables are capturing the same information. Even though 'Job level' and 'monthly income' are particularly strongly correlated, there still may be predictive value in maintaining both variables as-is, so neither will be removed.\n",
    "\n",
    "It is also important to investigate the correlations between these variables and the target variable. A graph of the correlations between the independent variables and the target variable, attrition:"
   ]
  },
  {
   "cell_type": "code",
   "execution_count": 56,
   "id": "733996c4",
   "metadata": {
    "scrolled": true
   },
   "outputs": [
    {
     "name": "stderr",
     "output_type": "stream",
     "text": [
      "C:\\Users\\Shefali\\AppData\\Local\\Temp\\ipykernel_32780\\4097067600.py:1: FutureWarning: The default value of numeric_only in DataFrame.corr is deprecated. In a future version, it will default to False. Select only valid columns or specify the value of numeric_only to silence this warning.\n",
      "  sns.barplot(data=employee_data.corr()['Attrition'][1:].reset_index(), x='Attrition',y='index',palette='crest')\n"
     ]
    },
    {
     "data": {
      "text/plain": [
       "<Axes: xlabel='Attrition', ylabel='index'>"
      ]
     },
     "execution_count": 56,
     "metadata": {},
     "output_type": "execute_result"
    },
    {
     "data": {
      "image/png": "[encoded data removed]",
      "text/plain": [
       "<Figure size 640x480 with 1 Axes>"
      ]
     },
     "metadata": {},
     "output_type": "display_data"
    }
   ],
   "source": [
    "sns.barplot(data=employee_data.corr()['Attrition'][1:].reset_index(), x='Attrition',y='index',palette='crest')"
   ]
  },
  {
   "cell_type": "markdown",
   "id": "609a4800",
   "metadata": {},
   "source": [
    "From this graph, a **few very weakly positive correlations** are noted, in particular 'distance from home', which makes intuitive sense to be correlated with employee attrition.\n",
    "\n",
    "There are also **many variables weakly negatively correlated to attrition**, including most of the cluster noted in the previous graph, other than 'years since last promotion', which, surprisingly, does not appear to be related to attrition likelihood.\n",
    "\n",
    "There are also some categorical variables that have not been graphically examined yet. Of these, the 'business travel' variable appears to be a good candidate to relate to employee attrition. The following graph examines the 'business travel' variable:"
   ]
  },
  {
   "cell_type": "code",
   "execution_count": 57,
   "id": "1b1d0743",
   "metadata": {},
   "outputs": [
    {
     "data": {
      "text/plain": [
       "<seaborn.axisgrid.FacetGrid at 0x1b70d2d47c0>"
      ]
     },
     "execution_count": 57,
     "metadata": {},
     "output_type": "execute_result"
    },
    {
     "data": {
      "image/png": "[encoded data removed]",
      "text/plain": [
       "<Figure size 568.847x500 with 1 Axes>"
      ]
     },
     "metadata": {},
     "output_type": "display_data"
    }
   ],
   "source": [
    "sns.catplot(data=employee_data,x='BusinessTravel',y='MonthlyIncome',hue='Attrition',order=['Non-Travel','Travel_Rarely','Travel_Frequently'],dodge=True,palette='crest')"
   ]
  },
  {
   "cell_type": "markdown",
   "id": "9e903668",
   "metadata": {},
   "source": [
    "This graph clearly shows the relationship between employee monthly income and attrition, but it seems like there is **no clear relationship between the amount of travel required of an employee and the attrition rate**."
   ]
  },
  {
   "cell_type": "markdown",
   "id": "dfe32d4e",
   "metadata": {},
   "source": [
    "## Data Wrangling\n",
    "\n",
    "The dataset must be prepared for machine learning by converting the remaining categorical variables into a numeric form for use.\n",
    "\n",
    "The following is a list of the categorical variables:"
   ]
  },
  {
   "cell_type": "code",
   "execution_count": 58,
   "id": "8a9967ba",
   "metadata": {},
   "outputs": [
    {
     "name": "stdout",
     "output_type": "stream",
     "text": [
      "BusinessTravel : ['Travel_Rarely' 'Travel_Frequently' 'Non-Travel']\n",
      "\n",
      "Department : ['Sales' 'Research & Development' 'Human Resources']\n",
      "\n",
      "EducationField : ['Life Sciences' 'Other' 'Medical' 'Marketing' 'Technical Degree'\n",
      " 'Human Resources']\n",
      "\n",
      "JobRole : ['Sales Executive' 'Research Scientist' 'Laboratory Technician'\n",
      " 'Manufacturing Director' 'Healthcare Representative' 'Manager'\n",
      " 'Sales Representative' 'Research Director' 'Human Resources']\n",
      "\n",
      "OverTime : ['Yes' 'No']\n",
      "\n"
     ]
    }
   ],
   "source": [
    "for attribute in employee_data.columns:\n",
    "    if employee_data[attribute].dtype == object:\n",
    "        print('{} : {}\\n'.format(attribute,employee_data[attribute].unique()))"
   ]
  },
  {
   "cell_type": "markdown",
   "id": "16359bd7",
   "metadata": {},
   "source": [
    "Of these categorical variables, we can see that **two are ordinal** - they have a ranking or ordering to the categories. \n",
    "\n",
    "We can therefore convert these columns, 'BusinessTravel' and 'OverTime', directly to numeric values:"
   ]
  },
  {
   "cell_type": "code",
   "execution_count": 59,
   "id": "9c523dd4",
   "metadata": {
    "scrolled": true
   },
   "outputs": [],
   "source": [
    "employee_data['OverTime'] = employee_data['OverTime'].apply(lambda val: 1 if val == 'Yes' else 0)"
   ]
  },
  {
   "cell_type": "code",
   "execution_count": 60,
   "id": "a9acd4f2",
   "metadata": {},
   "outputs": [],
   "source": [
    "def convert_travel(value):\n",
    "    if value == 'Non-Travel':\n",
    "        return 0\n",
    "    elif value == 'Travel_Rarely':\n",
    "        return 1\n",
    "    else:\n",
    "        return 2"
   ]
  },
  {
   "cell_type": "code",
   "execution_count": 61,
   "id": "a347926b",
   "metadata": {},
   "outputs": [],
   "source": [
    "employee_data['BusinessTravel'] = employee_data['BusinessTravel'].apply(convert_travel)"
   ]
  },
  {
   "cell_type": "markdown",
   "id": "696c3eb9",
   "metadata": {},
   "source": [
    "**The remaining categorical variables are nominal** - there is no ranking or ordering to the categories. \n",
    "\n",
    "These variables will be **converted to numeric values using dummy variables**:"
   ]
  },
  {
   "cell_type": "code",
   "execution_count": 62,
   "id": "e57222d6",
   "metadata": {},
   "outputs": [],
   "source": [
    "employee_data_final = pd.get_dummies(data=employee_data,columns=['Department','EducationField','JobRole'],drop_first=True)"
   ]
  },
  {
   "cell_type": "code",
   "execution_count": 63,
   "id": "37952943",
   "metadata": {},
   "outputs": [
    {
     "data": {
      "text/html": [
       "<div>\n",
       "<style scoped>\n",
       "    .dataframe tbody tr th:only-of-type {\n",
       "        vertical-align: middle;\n",
       "    }\n",
       "\n",
       "    .dataframe tbody tr th {\n",
       "        vertical-align: top;\n",
       "    }\n",
       "\n",
       "    .dataframe thead th {\n",
       "        text-align: right;\n",
       "    }\n",
       "</style>\n",
       "<table border=\"1\" class=\"dataframe\">\n",
       "  <thead>\n",
       "    <tr style=\"text-align: right;\">\n",
       "      <th></th>\n",
       "      <th>Attrition</th>\n",
       "      <th>BusinessTravel</th>\n",
       "      <th>DailyRate</th>\n",
       "      <th>DistanceFromHome</th>\n",
       "      <th>Education</th>\n",
       "      <th>EnvironmentSatisfaction</th>\n",
       "      <th>HourlyRate</th>\n",
       "      <th>JobInvolvement</th>\n",
       "      <th>JobLevel</th>\n",
       "      <th>JobSatisfaction</th>\n",
       "      <th>...</th>\n",
       "      <th>EducationField_Other</th>\n",
       "      <th>EducationField_Technical Degree</th>\n",
       "      <th>JobRole_Human Resources</th>\n",
       "      <th>JobRole_Laboratory Technician</th>\n",
       "      <th>JobRole_Manager</th>\n",
       "      <th>JobRole_Manufacturing Director</th>\n",
       "      <th>JobRole_Research Director</th>\n",
       "      <th>JobRole_Research Scientist</th>\n",
       "      <th>JobRole_Sales Executive</th>\n",
       "      <th>JobRole_Sales Representative</th>\n",
       "    </tr>\n",
       "  </thead>\n",
       "  <tbody>\n",
       "    <tr>\n",
       "      <th>count</th>\n",
       "      <td>1470.000000</td>\n",
       "      <td>1470.000000</td>\n",
       "      <td>1470.000000</td>\n",
       "      <td>1470.000000</td>\n",
       "      <td>1470.000000</td>\n",
       "      <td>1470.000000</td>\n",
       "      <td>1470.000000</td>\n",
       "      <td>1470.000000</td>\n",
       "      <td>1470.000000</td>\n",
       "      <td>1470.000000</td>\n",
       "      <td>...</td>\n",
       "      <td>1470.000000</td>\n",
       "      <td>1470.000000</td>\n",
       "      <td>1470.000000</td>\n",
       "      <td>1470.000000</td>\n",
       "      <td>1470.000000</td>\n",
       "      <td>1470.000000</td>\n",
       "      <td>1470.000000</td>\n",
       "      <td>1470.000000</td>\n",
       "      <td>1470.000000</td>\n",
       "      <td>1470.000000</td>\n",
       "    </tr>\n",
       "    <tr>\n",
       "      <th>mean</th>\n",
       "      <td>0.161224</td>\n",
       "      <td>1.086395</td>\n",
       "      <td>802.485714</td>\n",
       "      <td>9.192517</td>\n",
       "      <td>2.912925</td>\n",
       "      <td>2.721769</td>\n",
       "      <td>65.891156</td>\n",
       "      <td>2.729932</td>\n",
       "      <td>2.063946</td>\n",
       "      <td>2.728571</td>\n",
       "      <td>...</td>\n",
       "      <td>0.055782</td>\n",
       "      <td>0.089796</td>\n",
       "      <td>0.035374</td>\n",
       "      <td>0.176190</td>\n",
       "      <td>0.069388</td>\n",
       "      <td>0.098639</td>\n",
       "      <td>0.054422</td>\n",
       "      <td>0.198639</td>\n",
       "      <td>0.221769</td>\n",
       "      <td>0.056463</td>\n",
       "    </tr>\n",
       "    <tr>\n",
       "      <th>std</th>\n",
       "      <td>0.367863</td>\n",
       "      <td>0.532170</td>\n",
       "      <td>403.509100</td>\n",
       "      <td>8.106864</td>\n",
       "      <td>1.024165</td>\n",
       "      <td>1.093082</td>\n",
       "      <td>20.329428</td>\n",
       "      <td>0.711561</td>\n",
       "      <td>1.106940</td>\n",
       "      <td>1.102846</td>\n",
       "      <td>...</td>\n",
       "      <td>0.229579</td>\n",
       "      <td>0.285986</td>\n",
       "      <td>0.184786</td>\n",
       "      <td>0.381112</td>\n",
       "      <td>0.254199</td>\n",
       "      <td>0.298279</td>\n",
       "      <td>0.226925</td>\n",
       "      <td>0.399112</td>\n",
       "      <td>0.415578</td>\n",
       "      <td>0.230891</td>\n",
       "    </tr>\n",
       "    <tr>\n",
       "      <th>min</th>\n",
       "      <td>0.000000</td>\n",
       "      <td>0.000000</td>\n",
       "      <td>102.000000</td>\n",
       "      <td>1.000000</td>\n",
       "      <td>1.000000</td>\n",
       "      <td>1.000000</td>\n",
       "      <td>30.000000</td>\n",
       "      <td>1.000000</td>\n",
       "      <td>1.000000</td>\n",
       "      <td>1.000000</td>\n",
       "      <td>...</td>\n",
       "      <td>0.000000</td>\n",
       "      <td>0.000000</td>\n",
       "      <td>0.000000</td>\n",
       "      <td>0.000000</td>\n",
       "      <td>0.000000</td>\n",
       "      <td>0.000000</td>\n",
       "      <td>0.000000</td>\n",
       "      <td>0.000000</td>\n",
       "      <td>0.000000</td>\n",
       "      <td>0.000000</td>\n",
       "    </tr>\n",
       "    <tr>\n",
       "      <th>25%</th>\n",
       "      <td>0.000000</td>\n",
       "      <td>1.000000</td>\n",
       "      <td>465.000000</td>\n",
       "      <td>2.000000</td>\n",
       "      <td>2.000000</td>\n",
       "      <td>2.000000</td>\n",
       "      <td>48.000000</td>\n",
       "      <td>2.000000</td>\n",
       "      <td>1.000000</td>\n",
       "      <td>2.000000</td>\n",
       "      <td>...</td>\n",
       "      <td>0.000000</td>\n",
       "      <td>0.000000</td>\n",
       "      <td>0.000000</td>\n",
       "      <td>0.000000</td>\n",
       "      <td>0.000000</td>\n",
       "      <td>0.000000</td>\n",
       "      <td>0.000000</td>\n",
       "      <td>0.000000</td>\n",
       "      <td>0.000000</td>\n",
       "      <td>0.000000</td>\n",
       "    </tr>\n",
       "    <tr>\n",
       "      <th>50%</th>\n",
       "      <td>0.000000</td>\n",
       "      <td>1.000000</td>\n",
       "      <td>802.000000</td>\n",
       "      <td>7.000000</td>\n",
       "      <td>3.000000</td>\n",
       "      <td>3.000000</td>\n",
       "      <td>66.000000</td>\n",
       "      <td>3.000000</td>\n",
       "      <td>2.000000</td>\n",
       "      <td>3.000000</td>\n",
       "      <td>...</td>\n",
       "      <td>0.000000</td>\n",
       "      <td>0.000000</td>\n",
       "      <td>0.000000</td>\n",
       "      <td>0.000000</td>\n",
       "      <td>0.000000</td>\n",
       "      <td>0.000000</td>\n",
       "      <td>0.000000</td>\n",
       "      <td>0.000000</td>\n",
       "      <td>0.000000</td>\n",
       "      <td>0.000000</td>\n",
       "    </tr>\n",
       "    <tr>\n",
       "      <th>75%</th>\n",
       "      <td>0.000000</td>\n",
       "      <td>1.000000</td>\n",
       "      <td>1157.000000</td>\n",
       "      <td>14.000000</td>\n",
       "      <td>4.000000</td>\n",
       "      <td>4.000000</td>\n",
       "      <td>83.750000</td>\n",
       "      <td>3.000000</td>\n",
       "      <td>3.000000</td>\n",
       "      <td>4.000000</td>\n",
       "      <td>...</td>\n",
       "      <td>0.000000</td>\n",
       "      <td>0.000000</td>\n",
       "      <td>0.000000</td>\n",
       "      <td>0.000000</td>\n",
       "      <td>0.000000</td>\n",
       "      <td>0.000000</td>\n",
       "      <td>0.000000</td>\n",
       "      <td>0.000000</td>\n",
       "      <td>0.000000</td>\n",
       "      <td>0.000000</td>\n",
       "    </tr>\n",
       "    <tr>\n",
       "      <th>max</th>\n",
       "      <td>1.000000</td>\n",
       "      <td>2.000000</td>\n",
       "      <td>1499.000000</td>\n",
       "      <td>29.000000</td>\n",
       "      <td>5.000000</td>\n",
       "      <td>4.000000</td>\n",
       "      <td>100.000000</td>\n",
       "      <td>4.000000</td>\n",
       "      <td>5.000000</td>\n",
       "      <td>4.000000</td>\n",
       "      <td>...</td>\n",
       "      <td>1.000000</td>\n",
       "      <td>1.000000</td>\n",
       "      <td>1.000000</td>\n",
       "      <td>1.000000</td>\n",
       "      <td>1.000000</td>\n",
       "      <td>1.000000</td>\n",
       "      <td>1.000000</td>\n",
       "      <td>1.000000</td>\n",
       "      <td>1.000000</td>\n",
       "      <td>1.000000</td>\n",
       "    </tr>\n",
       "  </tbody>\n",
       "</table>\n",
       "<p>8 rows × 40 columns</p>\n",
       "</div>"
      ],
      "text/plain": [
       "         Attrition  BusinessTravel    DailyRate  DistanceFromHome  \\\n",
       "count  1470.000000     1470.000000  1470.000000       1470.000000   \n",
       "mean      0.161224        1.086395   802.485714          9.192517   \n",
       "std       0.367863        0.532170   403.509100          8.106864   \n",
       "min       0.000000        0.000000   102.000000          1.000000   \n",
       "25%       0.000000        1.000000   465.000000          2.000000   \n",
       "50%       0.000000        1.000000   802.000000          7.000000   \n",
       "75%       0.000000        1.000000  1157.000000         14.000000   \n",
       "max       1.000000        2.000000  1499.000000         29.000000   \n",
       "\n",
       "         Education  EnvironmentSatisfaction   HourlyRate  JobInvolvement  \\\n",
       "count  1470.000000              1470.000000  1470.000000     1470.000000   \n",
       "mean      2.912925                 2.721769    65.891156        2.729932   \n",
       "std       1.024165                 1.093082    20.329428        0.711561   \n",
       "min       1.000000                 1.000000    30.000000        1.000000   \n",
       "25%       2.000000                 2.000000    48.000000        2.000000   \n",
       "50%       3.000000                 3.000000    66.000000        3.000000   \n",
       "75%       4.000000                 4.000000    83.750000        3.000000   \n",
       "max       5.000000                 4.000000   100.000000        4.000000   \n",
       "\n",
       "          JobLevel  JobSatisfaction  ...  EducationField_Other  \\\n",
       "count  1470.000000      1470.000000  ...           1470.000000   \n",
       "mean      2.063946         2.728571  ...              0.055782   \n",
       "std       1.106940         1.102846  ...              0.229579   \n",
       "min       1.000000         1.000000  ...              0.000000   \n",
       "25%       1.000000         2.000000  ...              0.000000   \n",
       "50%       2.000000         3.000000  ...              0.000000   \n",
       "75%       3.000000         4.000000  ...              0.000000   \n",
       "max       5.000000         4.000000  ...              1.000000   \n",
       "\n",
       "       EducationField_Technical Degree  JobRole_Human Resources  \\\n",
       "count                      1470.000000              1470.000000   \n",
       "mean                          0.089796                 0.035374   \n",
       "std                           0.285986                 0.184786   \n",
       "min                           0.000000                 0.000000   \n",
       "25%                           0.000000                 0.000000   \n",
       "50%                           0.000000                 0.000000   \n",
       "75%                           0.000000                 0.000000   \n",
       "max                           1.000000                 1.000000   \n",
       "\n",
       "       JobRole_Laboratory Technician  JobRole_Manager  \\\n",
       "count                    1470.000000      1470.000000   \n",
       "mean                        0.176190         0.069388   \n",
       "std                         0.381112         0.254199   \n",
       "min                         0.000000         0.000000   \n",
       "25%                         0.000000         0.000000   \n",
       "50%                         0.000000         0.000000   \n",
       "75%                         0.000000         0.000000   \n",
       "max                         1.000000         1.000000   \n",
       "\n",
       "       JobRole_Manufacturing Director  JobRole_Research Director  \\\n",
       "count                     1470.000000                1470.000000   \n",
       "mean                         0.098639                   0.054422   \n",
       "std                          0.298279                   0.226925   \n",
       "min                          0.000000                   0.000000   \n",
       "25%                          0.000000                   0.000000   \n",
       "50%                          0.000000                   0.000000   \n",
       "75%                          0.000000                   0.000000   \n",
       "max                          1.000000                   1.000000   \n",
       "\n",
       "       JobRole_Research Scientist  JobRole_Sales Executive  \\\n",
       "count                 1470.000000              1470.000000   \n",
       "mean                     0.198639                 0.221769   \n",
       "std                      0.399112                 0.415578   \n",
       "min                      0.000000                 0.000000   \n",
       "25%                      0.000000                 0.000000   \n",
       "50%                      0.000000                 0.000000   \n",
       "75%                      0.000000                 0.000000   \n",
       "max                      1.000000                 1.000000   \n",
       "\n",
       "       JobRole_Sales Representative  \n",
       "count                   1470.000000  \n",
       "mean                       0.056463  \n",
       "std                        0.230891  \n",
       "min                        0.000000  \n",
       "25%                        0.000000  \n",
       "50%                        0.000000  \n",
       "75%                        0.000000  \n",
       "max                        1.000000  \n",
       "\n",
       "[8 rows x 40 columns]"
      ]
     },
     "execution_count": 63,
     "metadata": {},
     "output_type": "execute_result"
    }
   ],
   "source": [
    "employee_data_final.to_csv('Machine-Learning-Employee-Attrition.csv',index=False) #save dataset as csv for future use\n",
    "employee_data_final.describe()"
   ]
  },
  {
   "cell_type": "markdown",
   "id": "733685fb",
   "metadata": {},
   "source": [
    "**The dataset, now including 40 features, is ready for use in a machine learning algorithm**\n",
    "\n",
    "---\n",
    "\n",
    "# Machine Learning"
   ]
  },
  {
   "cell_type": "markdown",
   "id": "96a1601f",
   "metadata": {},
   "source": [
    "## Separate Dataset into Training Data and Testing Data\n",
    "\n",
    "The first step of machine learning is to separate the dataset into features and target, and then split the data into training and testing categories:"
   ]
  },
  {
   "cell_type": "code",
   "execution_count": 64,
   "id": "a5d38090",
   "metadata": {},
   "outputs": [],
   "source": [
    "from sklearn.model_selection import train_test_split"
   ]
  },
  {
   "cell_type": "code",
   "execution_count": 65,
   "id": "4b970fd0",
   "metadata": {},
   "outputs": [],
   "source": [
    "X = employee_data_final.drop(columns = 'Attrition')\n",
    "y = employee_data_final['Attrition']\n",
    "X_train, X_test, y_train, y_test = train_test_split(X, y, test_size=0.3,random_state=36)"
   ]
  },
  {
   "cell_type": "markdown",
   "id": "bfbb5e17",
   "metadata": {},
   "source": [
    "## Random Forest Model\n",
    "\n",
    "The training data is used to generate a model with the default random forest algorithm:"
   ]
  },
  {
   "cell_type": "code",
   "execution_count": 66,
   "id": "391967bc",
   "metadata": {},
   "outputs": [
    {
     "data": {
      "text/html": [
       "<style>#sk-container-id-3 {\n",
       "  /* Definition of color scheme common for light and dark mode */\n",
       "  --sklearn-color-text: black;\n",
       "  --sklearn-color-line: gray;\n",
       "  /* Definition of color scheme for unfitted estimators */\n",
       "  --sklearn-color-unfitted-level-0: #fff5e6;\n",
       "  --sklearn-color-unfitted-level-1: #f6e4d2;\n",
       "  --sklearn-color-unfitted-level-2: #ffe0b3;\n",
       "  --sklearn-color-unfitted-level-3: chocolate;\n",
       "  /* Definition of color scheme for fitted estimators */\n",
       "  --sklearn-color-fitted-level-0: #f0f8ff;\n",
       "  --sklearn-color-fitted-level-1: #d4ebff;\n",
       "  --sklearn-color-fitted-level-2: #b3dbfd;\n",
       "  --sklearn-color-fitted-level-3: cornflowerblue;\n",
       "\n",
       "  /* Specific color for light theme */\n",
       "  --sklearn-color-text-on-default-background: var(--sg-text-color, var(--theme-code-foreground, var(--jp-content-font-color1, black)));\n",
       "  --sklearn-color-background: var(--sg-background-color, var(--theme-background, var(--jp-layout-color0, white)));\n",
       "  --sklearn-color-border-box: var(--sg-text-color, var(--theme-code-foreground, var(--jp-content-font-color1, black)));\n",
       "  --sklearn-color-icon: #696969;\n",
       "\n",
       "  @media (prefers-color-scheme: dark) {\n",
       "    /* Redefinition of color scheme for dark theme */\n",
       "    --sklearn-color-text-on-default-background: var(--sg-text-color, var(--theme-code-foreground, var(--jp-content-font-color1, white)));\n",
       "    --sklearn-color-background: var(--sg-background-color, var(--theme-background, var(--jp-layout-color0, #111)));\n",
       "    --sklearn-color-border-box: var(--sg-text-color, var(--theme-code-foreground, var(--jp-content-font-color1, white)));\n",
       "    --sklearn-color-icon: #878787;\n",
       "  }\n",
       "}\n",
       "\n",
       "#sk-container-id-3 {\n",
       "  color: var(--sklearn-color-text);\n",
       "}\n",
       "\n",
       "#sk-container-id-3 pre {\n",
       "  padding: 0;\n",
       "}\n",
       "\n",
       "#sk-container-id-3 input.sk-hidden--visually {\n",
       "  border: 0;\n",
       "  clip: rect(1px 1px 1px 1px);\n",
       "  clip: rect(1px, 1px, 1px, 1px);\n",
       "  height: 1px;\n",
       "  margin: -1px;\n",
       "  overflow: hidden;\n",
       "  padding: 0;\n",
       "  position: absolute;\n",
       "  width: 1px;\n",
       "}\n",
       "\n",
       "#sk-container-id-3 div.sk-dashed-wrapped {\n",
       "  border: 1px dashed var(--sklearn-color-line);\n",
       "  margin: 0 0.4em 0.5em 0.4em;\n",
       "  box-sizing: border-box;\n",
       "  padding-bottom: 0.4em;\n",
       "  background-color: var(--sklearn-color-background);\n",
       "}\n",
       "\n",
       "#sk-container-id-3 div.sk-container {\n",
       "  /* jupyter's `normalize.less` sets `[hidden] { display: none; }`\n",
       "     but bootstrap.min.css set `[hidden] { display: none !important; }`\n",
       "     so we also need the `!important` here to be able to override the\n",
       "     default hidden behavior on the sphinx rendered scikit-learn.org.\n",
       "     See: https://github.com/scikit-learn/scikit-learn/issues/21755 */\n",
       "  display: inline-block !important;\n",
       "  position: relative;\n",
       "}\n",
       "\n",
       "#sk-container-id-3 div.sk-text-repr-fallback {\n",
       "  display: none;\n",
       "}\n",
       "\n",
       "div.sk-parallel-item,\n",
       "div.sk-serial,\n",
       "div.sk-item {\n",
       "  /* draw centered vertical line to link estimators */\n",
       "  background-image: linear-gradient(var(--sklearn-color-text-on-default-background), var(--sklearn-color-text-on-default-background));\n",
       "  background-size: 2px 100%;\n",
       "  background-repeat: no-repeat;\n",
       "  background-position: center center;\n",
       "}\n",
       "\n",
       "/* Parallel-specific style estimator block */\n",
       "\n",
       "#sk-container-id-3 div.sk-parallel-item::after {\n",
       "  content: \"\";\n",
       "  width: 100%;\n",
       "  border-bottom: 2px solid var(--sklearn-color-text-on-default-background);\n",
       "  flex-grow: 1;\n",
       "}\n",
       "\n",
       "#sk-container-id-3 div.sk-parallel {\n",
       "  display: flex;\n",
       "  align-items: stretch;\n",
       "  justify-content: center;\n",
       "  background-color: var(--sklearn-color-background);\n",
       "  position: relative;\n",
       "}\n",
       "\n",
       "#sk-container-id-3 div.sk-parallel-item {\n",
       "  display: flex;\n",
       "  flex-direction: column;\n",
       "}\n",
       "\n",
       "#sk-container-id-3 div.sk-parallel-item:first-child::after {\n",
       "  align-self: flex-end;\n",
       "  width: 50%;\n",
       "}\n",
       "\n",
       "#sk-container-id-3 div.sk-parallel-item:last-child::after {\n",
       "  align-self: flex-start;\n",
       "  width: 50%;\n",
       "}\n",
       "\n",
       "#sk-container-id-3 div.sk-parallel-item:only-child::after {\n",
       "  width: 0;\n",
       "}\n",
       "\n",
       "/* Serial-specific style estimator block */\n",
       "\n",
       "#sk-container-id-3 div.sk-serial {\n",
       "  display: flex;\n",
       "  flex-direction: column;\n",
       "  align-items: center;\n",
       "  background-color: var(--sklearn-color-background);\n",
       "  padding-right: 1em;\n",
       "  padding-left: 1em;\n",
       "}\n",
       "\n",
       "\n",
       "/* Toggleable style: style used for estimator/Pipeline/ColumnTransformer box that is\n",
       "clickable and can be expanded/collapsed.\n",
       "- Pipeline and ColumnTransformer use this feature and define the default style\n",
       "- Estimators will overwrite some part of the style using the `sk-estimator` class\n",
       "*/\n",
       "\n",
       "/* Pipeline and ColumnTransformer style (default) */\n",
       "\n",
       "#sk-container-id-3 div.sk-toggleable {\n",
       "  /* Default theme specific background. It is overwritten whether we have a\n",
       "  specific estimator or a Pipeline/ColumnTransformer */\n",
       "  background-color: var(--sklearn-color-background);\n",
       "}\n",
       "\n",
       "/* Toggleable label */\n",
       "#sk-container-id-3 label.sk-toggleable__label {\n",
       "  cursor: pointer;\n",
       "  display: block;\n",
       "  width: 100%;\n",
       "  margin-bottom: 0;\n",
       "  padding: 0.5em;\n",
       "  box-sizing: border-box;\n",
       "  text-align: center;\n",
       "}\n",
       "\n",
       "#sk-container-id-3 label.sk-toggleable__label-arrow:before {\n",
       "  /* Arrow on the left of the label */\n",
       "  content: \"▸\";\n",
       "  float: left;\n",
       "  margin-right: 0.25em;\n",
       "  color: var(--sklearn-color-icon);\n",
       "}\n",
       "\n",
       "#sk-container-id-3 label.sk-toggleable__label-arrow:hover:before {\n",
       "  color: var(--sklearn-color-text);\n",
       "}\n",
       "\n",
       "/* Toggleable content - dropdown */\n",
       "\n",
       "#sk-container-id-3 div.sk-toggleable__content {\n",
       "  max-height: 0;\n",
       "  max-width: 0;\n",
       "  overflow: hidden;\n",
       "  text-align: left;\n",
       "  /* unfitted */\n",
       "  background-color: var(--sklearn-color-unfitted-level-0);\n",
       "}\n",
       "\n",
       "#sk-container-id-3 div.sk-toggleable__content.fitted {\n",
       "  /* fitted */\n",
       "  background-color: var(--sklearn-color-fitted-level-0);\n",
       "}\n",
       "\n",
       "#sk-container-id-3 div.sk-toggleable__content pre {\n",
       "  margin: 0.2em;\n",
       "  border-radius: 0.25em;\n",
       "  color: var(--sklearn-color-text);\n",
       "  /* unfitted */\n",
       "  background-color: var(--sklearn-color-unfitted-level-0);\n",
       "}\n",
       "\n",
       "#sk-container-id-3 div.sk-toggleable__content.fitted pre {\n",
       "  /* unfitted */\n",
       "  background-color: var(--sklearn-color-fitted-level-0);\n",
       "}\n",
       "\n",
       "#sk-container-id-3 input.sk-toggleable__control:checked~div.sk-toggleable__content {\n",
       "  /* Expand drop-down */\n",
       "  max-height: 200px;\n",
       "  max-width: 100%;\n",
       "  overflow: auto;\n",
       "}\n",
       "\n",
       "#sk-container-id-3 input.sk-toggleable__control:checked~label.sk-toggleable__label-arrow:before {\n",
       "  content: \"▾\";\n",
       "}\n",
       "\n",
       "/* Pipeline/ColumnTransformer-specific style */\n",
       "\n",
       "#sk-container-id-3 div.sk-label input.sk-toggleable__control:checked~label.sk-toggleable__label {\n",
       "  color: var(--sklearn-color-text);\n",
       "  background-color: var(--sklearn-color-unfitted-level-2);\n",
       "}\n",
       "\n",
       "#sk-container-id-3 div.sk-label.fitted input.sk-toggleable__control:checked~label.sk-toggleable__label {\n",
       "  background-color: var(--sklearn-color-fitted-level-2);\n",
       "}\n",
       "\n",
       "/* Estimator-specific style */\n",
       "\n",
       "/* Colorize estimator box */\n",
       "#sk-container-id-3 div.sk-estimator input.sk-toggleable__control:checked~label.sk-toggleable__label {\n",
       "  /* unfitted */\n",
       "  background-color: var(--sklearn-color-unfitted-level-2);\n",
       "}\n",
       "\n",
       "#sk-container-id-3 div.sk-estimator.fitted input.sk-toggleable__control:checked~label.sk-toggleable__label {\n",
       "  /* fitted */\n",
       "  background-color: var(--sklearn-color-fitted-level-2);\n",
       "}\n",
       "\n",
       "#sk-container-id-3 div.sk-label label.sk-toggleable__label,\n",
       "#sk-container-id-3 div.sk-label label {\n",
       "  /* The background is the default theme color */\n",
       "  color: var(--sklearn-color-text-on-default-background);\n",
       "}\n",
       "\n",
       "/* On hover, darken the color of the background */\n",
       "#sk-container-id-3 div.sk-label:hover label.sk-toggleable__label {\n",
       "  color: var(--sklearn-color-text);\n",
       "  background-color: var(--sklearn-color-unfitted-level-2);\n",
       "}\n",
       "\n",
       "/* Label box, darken color on hover, fitted */\n",
       "#sk-container-id-3 div.sk-label.fitted:hover label.sk-toggleable__label.fitted {\n",
       "  color: var(--sklearn-color-text);\n",
       "  background-color: var(--sklearn-color-fitted-level-2);\n",
       "}\n",
       "\n",
       "/* Estimator label */\n",
       "\n",
       "#sk-container-id-3 div.sk-label label {\n",
       "  font-family: monospace;\n",
       "  font-weight: bold;\n",
       "  display: inline-block;\n",
       "  line-height: 1.2em;\n",
       "}\n",
       "\n",
       "#sk-container-id-3 div.sk-label-container {\n",
       "  text-align: center;\n",
       "}\n",
       "\n",
       "/* Estimator-specific */\n",
       "#sk-container-id-3 div.sk-estimator {\n",
       "  font-family: monospace;\n",
       "  border: 1px dotted var(--sklearn-color-border-box);\n",
       "  border-radius: 0.25em;\n",
       "  box-sizing: border-box;\n",
       "  margin-bottom: 0.5em;\n",
       "  /* unfitted */\n",
       "  background-color: var(--sklearn-color-unfitted-level-0);\n",
       "}\n",
       "\n",
       "#sk-container-id-3 div.sk-estimator.fitted {\n",
       "  /* fitted */\n",
       "  background-color: var(--sklearn-color-fitted-level-0);\n",
       "}\n",
       "\n",
       "/* on hover */\n",
       "#sk-container-id-3 div.sk-estimator:hover {\n",
       "  /* unfitted */\n",
       "  background-color: var(--sklearn-color-unfitted-level-2);\n",
       "}\n",
       "\n",
       "#sk-container-id-3 div.sk-estimator.fitted:hover {\n",
       "  /* fitted */\n",
       "  background-color: var(--sklearn-color-fitted-level-2);\n",
       "}\n",
       "\n",
       "/* Specification for estimator info (e.g. \"i\" and \"?\") */\n",
       "\n",
       "/* Common style for \"i\" and \"?\" */\n",
       "\n",
       ".sk-estimator-doc-link,\n",
       "a:link.sk-estimator-doc-link,\n",
       "a:visited.sk-estimator-doc-link {\n",
       "  float: right;\n",
       "  font-size: smaller;\n",
       "  line-height: 1em;\n",
       "  font-family: monospace;\n",
       "  background-color: var(--sklearn-color-background);\n",
       "  border-radius: 1em;\n",
       "  height: 1em;\n",
       "  width: 1em;\n",
       "  text-decoration: none !important;\n",
       "  margin-left: 1ex;\n",
       "  /* unfitted */\n",
       "  border: var(--sklearn-color-unfitted-level-1) 1pt solid;\n",
       "  color: var(--sklearn-color-unfitted-level-1);\n",
       "}\n",
       "\n",
       ".sk-estimator-doc-link.fitted,\n",
       "a:link.sk-estimator-doc-link.fitted,\n",
       "a:visited.sk-estimator-doc-link.fitted {\n",
       "  /* fitted */\n",
       "  border: var(--sklearn-color-fitted-level-1) 1pt solid;\n",
       "  color: var(--sklearn-color-fitted-level-1);\n",
       "}\n",
       "\n",
       "/* On hover */\n",
       "div.sk-estimator:hover .sk-estimator-doc-link:hover,\n",
       ".sk-estimator-doc-link:hover,\n",
       "div.sk-label-container:hover .sk-estimator-doc-link:hover,\n",
       ".sk-estimator-doc-link:hover {\n",
       "  /* unfitted */\n",
       "  background-color: var(--sklearn-color-unfitted-level-3);\n",
       "  color: var(--sklearn-color-background);\n",
       "  text-decoration: none;\n",
       "}\n",
       "\n",
       "div.sk-estimator.fitted:hover .sk-estimator-doc-link.fitted:hover,\n",
       ".sk-estimator-doc-link.fitted:hover,\n",
       "div.sk-label-container:hover .sk-estimator-doc-link.fitted:hover,\n",
       ".sk-estimator-doc-link.fitted:hover {\n",
       "  /* fitted */\n",
       "  background-color: var(--sklearn-color-fitted-level-3);\n",
       "  color: var(--sklearn-color-background);\n",
       "  text-decoration: none;\n",
       "}\n",
       "\n",
       "/* Span, style for the box shown on hovering the info icon */\n",
       ".sk-estimator-doc-link span {\n",
       "  display: none;\n",
       "  z-index: 9999;\n",
       "  position: relative;\n",
       "  font-weight: normal;\n",
       "  right: .2ex;\n",
       "  padding: .5ex;\n",
       "  margin: .5ex;\n",
       "  width: min-content;\n",
       "  min-width: 20ex;\n",
       "  max-width: 50ex;\n",
       "  color: var(--sklearn-color-text);\n",
       "  box-shadow: 2pt 2pt 4pt #999;\n",
       "  /* unfitted */\n",
       "  background: var(--sklearn-color-unfitted-level-0);\n",
       "  border: .5pt solid var(--sklearn-color-unfitted-level-3);\n",
       "}\n",
       "\n",
       ".sk-estimator-doc-link.fitted span {\n",
       "  /* fitted */\n",
       "  background: var(--sklearn-color-fitted-level-0);\n",
       "  border: var(--sklearn-color-fitted-level-3);\n",
       "}\n",
       "\n",
       ".sk-estimator-doc-link:hover span {\n",
       "  display: block;\n",
       "}\n",
       "\n",
       "/* \"?\"-specific style due to the `<a>` HTML tag */\n",
       "\n",
       "#sk-container-id-3 a.estimator_doc_link {\n",
       "  float: right;\n",
       "  font-size: 1rem;\n",
       "  line-height: 1em;\n",
       "  font-family: monospace;\n",
       "  background-color: var(--sklearn-color-background);\n",
       "  border-radius: 1rem;\n",
       "  height: 1rem;\n",
       "  width: 1rem;\n",
       "  text-decoration: none;\n",
       "  /* unfitted */\n",
       "  color: var(--sklearn-color-unfitted-level-1);\n",
       "  border: var(--sklearn-color-unfitted-level-1) 1pt solid;\n",
       "}\n",
       "\n",
       "#sk-container-id-3 a.estimator_doc_link.fitted {\n",
       "  /* fitted */\n",
       "  border: var(--sklearn-color-fitted-level-1) 1pt solid;\n",
       "  color: var(--sklearn-color-fitted-level-1);\n",
       "}\n",
       "\n",
       "/* On hover */\n",
       "#sk-container-id-3 a.estimator_doc_link:hover {\n",
       "  /* unfitted */\n",
       "  background-color: var(--sklearn-color-unfitted-level-3);\n",
       "  color: var(--sklearn-color-background);\n",
       "  text-decoration: none;\n",
       "}\n",
       "\n",
       "#sk-container-id-3 a.estimator_doc_link.fitted:hover {\n",
       "  /* fitted */\n",
       "  background-color: var(--sklearn-color-fitted-level-3);\n",
       "}\n",
       "</style><div id=\"sk-container-id-3\" class=\"sk-top-container\"><div class=\"sk-text-repr-fallback\"><pre>RandomForestClassifier(random_state=36)</pre><b>In a Jupyter environment, please rerun this cell to show the HTML representation or trust the notebook. <br />On GitHub, the HTML representation is unable to render, please try loading this page with nbviewer.org.</b></div><div class=\"sk-container\" hidden><div class=\"sk-item\"><div class=\"sk-estimator fitted sk-toggleable\"><input class=\"sk-toggleable__control sk-hidden--visually\" id=\"sk-estimator-id-5\" type=\"checkbox\" checked><label for=\"sk-estimator-id-5\" class=\"sk-toggleable__label fitted sk-toggleable__label-arrow fitted\">&nbsp;&nbsp;RandomForestClassifier<a class=\"sk-estimator-doc-link fitted\" rel=\"noreferrer\" target=\"_blank\" href=\"https://scikit-learn.org/1.4/modules/generated/sklearn.ensemble.RandomForestClassifier.html\">?<span>Documentation for RandomForestClassifier</span></a><span class=\"sk-estimator-doc-link fitted\">i<span>Fitted</span></span></label><div class=\"sk-toggleable__content fitted\"><pre>RandomForestClassifier(random_state=36)</pre></div> </div></div></div></div>"
      ],
      "text/plain": [
       "RandomForestClassifier(random_state=36)"
      ]
     },
     "execution_count": 66,
     "metadata": {},
     "output_type": "execute_result"
    }
   ],
   "source": [
    "from sklearn.ensemble import RandomForestClassifier\n",
    "random_forest = RandomForestClassifier(random_state=36) #default hyper-parameters, other than random state, to ensure consistency\n",
    "random_forest.fit(X_train, y_train)"
   ]
  },
  {
   "cell_type": "markdown",
   "id": "3a79eb8d",
   "metadata": {},
   "source": [
    "The model is then used to generate predictions based on the testing portion of the dataset:"
   ]
  },
  {
   "cell_type": "code",
   "execution_count": 67,
   "id": "4773f16e",
   "metadata": {},
   "outputs": [],
   "source": [
    "random_forest_predict = random_forest.predict(X_test)"
   ]
  },
  {
   "cell_type": "markdown",
   "id": "f1d0f257",
   "metadata": {},
   "source": [
    "Now the resulting model can be evaluated by comparing the predictions the model makes to the attrition test data.\n",
    "\n",
    "This will be done in three ways: using a confusion matrix, a classification report, and a AUC-ROC score."
   ]
  },
  {
   "cell_type": "code",
   "execution_count": 68,
   "id": "ee24cc5b",
   "metadata": {},
   "outputs": [],
   "source": [
    "from sklearn.metrics import confusion_matrix,classification_report,roc_auc_score"
   ]
  },
  {
   "cell_type": "code",
   "execution_count": 69,
   "id": "055ccc0c",
   "metadata": {},
   "outputs": [
    {
     "data": {
      "text/plain": [
       "Text(47.25, 0.5, 'Actual')"
      ]
     },
     "execution_count": 69,
     "metadata": {},
     "output_type": "execute_result"
    },
    {
     "data": {
      "image/png": "[encoded data removed]",
      "text/plain": [
       "<Figure size 640x480 with 2 Axes>"
      ]
     },
     "metadata": {},
     "output_type": "display_data"
    }
   ],
   "source": [
    "sns.heatmap(confusion_matrix(y_test, random_forest_predict),annot=True,cmap='crest',fmt='g')\n",
    "plt.title('Confusion Matrix for Random Forest')\n",
    "plt.xlabel('Predicted')\n",
    "plt.ylabel('Actual')"
   ]
  },
  {
   "cell_type": "code",
   "execution_count": 70,
   "id": "2cc420de",
   "metadata": {},
   "outputs": [
    {
     "name": "stdout",
     "output_type": "stream",
     "text": [
      "              precision    recall  f1-score   support\n",
      "\n",
      "           0       0.86      0.99      0.92       371\n",
      "           1       0.80      0.17      0.28        70\n",
      "\n",
      "    accuracy                           0.86       441\n",
      "   macro avg       0.83      0.58      0.60       441\n",
      "weighted avg       0.85      0.86      0.82       441\n",
      "\n"
     ]
    }
   ],
   "source": [
    "print(classification_report(y_test,random_forest_predict))"
   ]
  },
  {
   "cell_type": "code",
   "execution_count": 71,
   "id": "08978565",
   "metadata": {},
   "outputs": [
    {
     "data": {
      "text/plain": [
       "0.825"
      ]
     },
     "execution_count": 71,
     "metadata": {},
     "output_type": "execute_result"
    }
   ],
   "source": [
    "np.round(roc_auc_score(y_test,random_forest.predict_proba(X_test)[:, 1]),3)"
   ]
  },
  {
   "cell_type": "markdown",
   "id": "5245e6f3",
   "metadata": {},
   "source": [
    "From the confusion matrix and the classification report, the model is capturing almost all of the employees who are not in the attrition category (attrition = 0), but failing to capture most of the employees who are (12 out of 70 or 17%).\n",
    "\n",
    "The area under the curve - receiver operating characteristic (AUC-ROC) is the standard that the model is being measured by, with a **0.825 AUC-ROC** exceeding our model accuracy goal. A 0.5 AUC-ROC is equivalent to random guessing.\n",
    "\n",
    "The model could be improved by increasing the recall rate of employees who are in the attrition category (attrition = 1)."
   ]
  },
  {
   "cell_type": "markdown",
   "id": "806083dc",
   "metadata": {},
   "source": [
    "## Balanced Random Forest Model\n",
    "\n",
    "A random forest model can also be generated with a classification weighting of the two prediction classes to attempt to counteract the class imbalance in the training data, this is called a balanced random forest.\n",
    "\n",
    "A balanced random forest model is generated and predictions are made:"
   ]
  },
  {
   "cell_type": "code",
   "execution_count": 72,
   "id": "35b5095c",
   "metadata": {},
   "outputs": [],
   "source": [
    "balanced_random_forest = RandomForestClassifier(class_weight='balanced',random_state=36)\n",
    "balanced_random_forest.fit(X_train,y_train)\n",
    "balanced_predict = balanced_random_forest.predict(X_test)"
   ]
  },
  {
   "cell_type": "markdown",
   "id": "7651209f",
   "metadata": {},
   "source": [
    "The predictive power of this balanced random forest model can now be evaluated, again using a confusion matrix, classification report, and a AUC-ROC score:"
   ]
  },
  {
   "cell_type": "code",
   "execution_count": 73,
   "id": "56c05f29",
   "metadata": {},
   "outputs": [
    {
     "data": {
      "text/plain": [
       "Text(47.25, 0.5, 'Actual')"
      ]
     },
     "execution_count": 73,
     "metadata": {},
     "output_type": "execute_result"
    },
    {
     "data": {
      "image/png": "[encoded data removed]",
      "text/plain": [
       "<Figure size 640x480 with 2 Axes>"
      ]
     },
     "metadata": {},
     "output_type": "display_data"
    }
   ],
   "source": [
    "sns.heatmap(confusion_matrix(y_test, balanced_predict),annot=True,cmap='crest',fmt='g')\n",
    "plt.title('Confusion Matrix for Balanced Random Forest')\n",
    "plt.xlabel('Predicted')\n",
    "\n",
    "plt.ylabel('Actual')"
   ]
  },
  {
   "cell_type": "code",
   "execution_count": 74,
   "id": "c7812043",
   "metadata": {},
   "outputs": [
    {
     "name": "stdout",
     "output_type": "stream",
     "text": [
      "              precision    recall  f1-score   support\n",
      "\n",
      "           0       0.86      0.99      0.92       371\n",
      "           1       0.80      0.11      0.20        70\n",
      "\n",
      "    accuracy                           0.85       441\n",
      "   macro avg       0.83      0.55      0.56       441\n",
      "weighted avg       0.85      0.85      0.81       441\n",
      "\n"
     ]
    }
   ],
   "source": [
    "print(classification_report(y_test,balanced_predict))"
   ]
  },
  {
   "cell_type": "code",
   "execution_count": 75,
   "id": "b75bba5f",
   "metadata": {},
   "outputs": [
    {
     "data": {
      "text/plain": [
       "0.79"
      ]
     },
     "execution_count": 75,
     "metadata": {},
     "output_type": "execute_result"
    }
   ],
   "source": [
    "np.round(roc_auc_score(y_test,balanced_random_forest.predict_proba(X_test)[:, 1]),3)"
   ]
  },
  {
   "cell_type": "markdown",
   "id": "1ff54ac1",
   "metadata": {},
   "source": [
    "Unfortunately using a balanced random forest lowered the recall of the positive attrition class, which was an unexpected and undesirable result. \n",
    "\n",
    "The balanced random forest algorithm resulted in a lower **ROC-AUC score of 0.79**, with no improvement to the generated model."
   ]
  },
  {
   "cell_type": "markdown",
   "id": "baf53864",
   "metadata": {},
   "source": [
    "## Grid Search for Hyper Parameters\n",
    "\n",
    "To optimize the hyper parameters of the random forest algorithm, we can run a grid search of multiple input values and compare the results. This evaluates all possible combinations of the possible parameters and then creates a model using the best ones found.\n",
    "\n",
    "First, the 'grid' of different parameters to be tested is created:"
   ]
  },
  {
   "cell_type": "code",
   "execution_count": 76,
   "id": "0f88dd6a",
   "metadata": {},
   "outputs": [],
   "source": [
    "from sklearn.model_selection import GridSearchCV\n",
    "parameter_grid = {'max_features' : ['sqrt','log2',0.3],'n_estimators' : [10,100,1000],'class_weight' : [{0:1,1:1},{0:1,1:10},{0:1,1:100},{0:10,1:1}], 'max_depth' : [8,16,32,None], 'random_state' : [36]}"
   ]
  },
  {
   "cell_type": "markdown",
   "id": "27679721",
   "metadata": {},
   "source": [
    "Evaluate all possible combinations of the possible parameters and generate a model with the best parameters:\n",
    "\n",
    "<div class=\"alert alert-block alert-info\">\n",
    "    Note: Executing the grid search may take a substantial amount of time, depending on available processing capacity.\n",
    "</div>"
   ]
  },
  {
   "cell_type": "code",
   "execution_count": 77,
   "id": "8217d2fe",
   "metadata": {
    "scrolled": true
   },
   "outputs": [
    {
     "data": {
      "text/html": [
       "<style>#sk-container-id-4 {\n",
       "  /* Definition of color scheme common for light and dark mode */\n",
       "  --sklearn-color-text: black;\n",
       "  --sklearn-color-line: gray;\n",
       "  /* Definition of color scheme for unfitted estimators */\n",
       "  --sklearn-color-unfitted-level-0: #fff5e6;\n",
       "  --sklearn-color-unfitted-level-1: #f6e4d2;\n",
       "  --sklearn-color-unfitted-level-2: #ffe0b3;\n",
       "  --sklearn-color-unfitted-level-3: chocolate;\n",
       "  /* Definition of color scheme for fitted estimators */\n",
       "  --sklearn-color-fitted-level-0: #f0f8ff;\n",
       "  --sklearn-color-fitted-level-1: #d4ebff;\n",
       "  --sklearn-color-fitted-level-2: #b3dbfd;\n",
       "  --sklearn-color-fitted-level-3: cornflowerblue;\n",
       "\n",
       "  /* Specific color for light theme */\n",
       "  --sklearn-color-text-on-default-background: var(--sg-text-color, var(--theme-code-foreground, var(--jp-content-font-color1, black)));\n",
       "  --sklearn-color-background: var(--sg-background-color, var(--theme-background, var(--jp-layout-color0, white)));\n",
       "  --sklearn-color-border-box: var(--sg-text-color, var(--theme-code-foreground, var(--jp-content-font-color1, black)));\n",
       "  --sklearn-color-icon: #696969;\n",
       "\n",
       "  @media (prefers-color-scheme: dark) {\n",
       "    /* Redefinition of color scheme for dark theme */\n",
       "    --sklearn-color-text-on-default-background: var(--sg-text-color, var(--theme-code-foreground, var(--jp-content-font-color1, white)));\n",
       "    --sklearn-color-background: var(--sg-background-color, var(--theme-background, var(--jp-layout-color0, #111)));\n",
       "    --sklearn-color-border-box: var(--sg-text-color, var(--theme-code-foreground, var(--jp-content-font-color1, white)));\n",
       "    --sklearn-color-icon: #878787;\n",
       "  }\n",
       "}\n",
       "\n",
       "#sk-container-id-4 {\n",
       "  color: var(--sklearn-color-text);\n",
       "}\n",
       "\n",
       "#sk-container-id-4 pre {\n",
       "  padding: 0;\n",
       "}\n",
       "\n",
       "#sk-container-id-4 input.sk-hidden--visually {\n",
       "  border: 0;\n",
       "  clip: rect(1px 1px 1px 1px);\n",
       "  clip: rect(1px, 1px, 1px, 1px);\n",
       "  height: 1px;\n",
       "  margin: -1px;\n",
       "  overflow: hidden;\n",
       "  padding: 0;\n",
       "  position: absolute;\n",
       "  width: 1px;\n",
       "}\n",
       "\n",
       "#sk-container-id-4 div.sk-dashed-wrapped {\n",
       "  border: 1px dashed var(--sklearn-color-line);\n",
       "  margin: 0 0.4em 0.5em 0.4em;\n",
       "  box-sizing: border-box;\n",
       "  padding-bottom: 0.4em;\n",
       "  background-color: var(--sklearn-color-background);\n",
       "}\n",
       "\n",
       "#sk-container-id-4 div.sk-container {\n",
       "  /* jupyter's `normalize.less` sets `[hidden] { display: none; }`\n",
       "     but bootstrap.min.css set `[hidden] { display: none !important; }`\n",
       "     so we also need the `!important` here to be able to override the\n",
       "     default hidden behavior on the sphinx rendered scikit-learn.org.\n",
       "     See: https://github.com/scikit-learn/scikit-learn/issues/21755 */\n",
       "  display: inline-block !important;\n",
       "  position: relative;\n",
       "}\n",
       "\n",
       "#sk-container-id-4 div.sk-text-repr-fallback {\n",
       "  display: none;\n",
       "}\n",
       "\n",
       "div.sk-parallel-item,\n",
       "div.sk-serial,\n",
       "div.sk-item {\n",
       "  /* draw centered vertical line to link estimators */\n",
       "  background-image: linear-gradient(var(--sklearn-color-text-on-default-background), var(--sklearn-color-text-on-default-background));\n",
       "  background-size: 2px 100%;\n",
       "  background-repeat: no-repeat;\n",
       "  background-position: center center;\n",
       "}\n",
       "\n",
       "/* Parallel-specific style estimator block */\n",
       "\n",
       "#sk-container-id-4 div.sk-parallel-item::after {\n",
       "  content: \"\";\n",
       "  width: 100%;\n",
       "  border-bottom: 2px solid var(--sklearn-color-text-on-default-background);\n",
       "  flex-grow: 1;\n",
       "}\n",
       "\n",
       "#sk-container-id-4 div.sk-parallel {\n",
       "  display: flex;\n",
       "  align-items: stretch;\n",
       "  justify-content: center;\n",
       "  background-color: var(--sklearn-color-background);\n",
       "  position: relative;\n",
       "}\n",
       "\n",
       "#sk-container-id-4 div.sk-parallel-item {\n",
       "  display: flex;\n",
       "  flex-direction: column;\n",
       "}\n",
       "\n",
       "#sk-container-id-4 div.sk-parallel-item:first-child::after {\n",
       "  align-self: flex-end;\n",
       "  width: 50%;\n",
       "}\n",
       "\n",
       "#sk-container-id-4 div.sk-parallel-item:last-child::after {\n",
       "  align-self: flex-start;\n",
       "  width: 50%;\n",
       "}\n",
       "\n",
       "#sk-container-id-4 div.sk-parallel-item:only-child::after {\n",
       "  width: 0;\n",
       "}\n",
       "\n",
       "/* Serial-specific style estimator block */\n",
       "\n",
       "#sk-container-id-4 div.sk-serial {\n",
       "  display: flex;\n",
       "  flex-direction: column;\n",
       "  align-items: center;\n",
       "  background-color: var(--sklearn-color-background);\n",
       "  padding-right: 1em;\n",
       "  padding-left: 1em;\n",
       "}\n",
       "\n",
       "\n",
       "/* Toggleable style: style used for estimator/Pipeline/ColumnTransformer box that is\n",
       "clickable and can be expanded/collapsed.\n",
       "- Pipeline and ColumnTransformer use this feature and define the default style\n",
       "- Estimators will overwrite some part of the style using the `sk-estimator` class\n",
       "*/\n",
       "\n",
       "/* Pipeline and ColumnTransformer style (default) */\n",
       "\n",
       "#sk-container-id-4 div.sk-toggleable {\n",
       "  /* Default theme specific background. It is overwritten whether we have a\n",
       "  specific estimator or a Pipeline/ColumnTransformer */\n",
       "  background-color: var(--sklearn-color-background);\n",
       "}\n",
       "\n",
       "/* Toggleable label */\n",
       "#sk-container-id-4 label.sk-toggleable__label {\n",
       "  cursor: pointer;\n",
       "  display: block;\n",
       "  width: 100%;\n",
       "  margin-bottom: 0;\n",
       "  padding: 0.5em;\n",
       "  box-sizing: border-box;\n",
       "  text-align: center;\n",
       "}\n",
       "\n",
       "#sk-container-id-4 label.sk-toggleable__label-arrow:before {\n",
       "  /* Arrow on the left of the label */\n",
       "  content: \"▸\";\n",
       "  float: left;\n",
       "  margin-right: 0.25em;\n",
       "  color: var(--sklearn-color-icon);\n",
       "}\n",
       "\n",
       "#sk-container-id-4 label.sk-toggleable__label-arrow:hover:before {\n",
       "  color: var(--sklearn-color-text);\n",
       "}\n",
       "\n",
       "/* Toggleable content - dropdown */\n",
       "\n",
       "#sk-container-id-4 div.sk-toggleable__content {\n",
       "  max-height: 0;\n",
       "  max-width: 0;\n",
       "  overflow: hidden;\n",
       "  text-align: left;\n",
       "  /* unfitted */\n",
       "  background-color: var(--sklearn-color-unfitted-level-0);\n",
       "}\n",
       "\n",
       "#sk-container-id-4 div.sk-toggleable__content.fitted {\n",
       "  /* fitted */\n",
       "  background-color: var(--sklearn-color-fitted-level-0);\n",
       "}\n",
       "\n",
       "#sk-container-id-4 div.sk-toggleable__content pre {\n",
       "  margin: 0.2em;\n",
       "  border-radius: 0.25em;\n",
       "  color: var(--sklearn-color-text);\n",
       "  /* unfitted */\n",
       "  background-color: var(--sklearn-color-unfitted-level-0);\n",
       "}\n",
       "\n",
       "#sk-container-id-4 div.sk-toggleable__content.fitted pre {\n",
       "  /* unfitted */\n",
       "  background-color: var(--sklearn-color-fitted-level-0);\n",
       "}\n",
       "\n",
       "#sk-container-id-4 input.sk-toggleable__control:checked~div.sk-toggleable__content {\n",
       "  /* Expand drop-down */\n",
       "  max-height: 200px;\n",
       "  max-width: 100%;\n",
       "  overflow: auto;\n",
       "}\n",
       "\n",
       "#sk-container-id-4 input.sk-toggleable__control:checked~label.sk-toggleable__label-arrow:before {\n",
       "  content: \"▾\";\n",
       "}\n",
       "\n",
       "/* Pipeline/ColumnTransformer-specific style */\n",
       "\n",
       "#sk-container-id-4 div.sk-label input.sk-toggleable__control:checked~label.sk-toggleable__label {\n",
       "  color: var(--sklearn-color-text);\n",
       "  background-color: var(--sklearn-color-unfitted-level-2);\n",
       "}\n",
       "\n",
       "#sk-container-id-4 div.sk-label.fitted input.sk-toggleable__control:checked~label.sk-toggleable__label {\n",
       "  background-color: var(--sklearn-color-fitted-level-2);\n",
       "}\n",
       "\n",
       "/* Estimator-specific style */\n",
       "\n",
       "/* Colorize estimator box */\n",
       "#sk-container-id-4 div.sk-estimator input.sk-toggleable__control:checked~label.sk-toggleable__label {\n",
       "  /* unfitted */\n",
       "  background-color: var(--sklearn-color-unfitted-level-2);\n",
       "}\n",
       "\n",
       "#sk-container-id-4 div.sk-estimator.fitted input.sk-toggleable__control:checked~label.sk-toggleable__label {\n",
       "  /* fitted */\n",
       "  background-color: var(--sklearn-color-fitted-level-2);\n",
       "}\n",
       "\n",
       "#sk-container-id-4 div.sk-label label.sk-toggleable__label,\n",
       "#sk-container-id-4 div.sk-label label {\n",
       "  /* The background is the default theme color */\n",
       "  color: var(--sklearn-color-text-on-default-background);\n",
       "}\n",
       "\n",
       "/* On hover, darken the color of the background */\n",
       "#sk-container-id-4 div.sk-label:hover label.sk-toggleable__label {\n",
       "  color: var(--sklearn-color-text);\n",
       "  background-color: var(--sklearn-color-unfitted-level-2);\n",
       "}\n",
       "\n",
       "/* Label box, darken color on hover, fitted */\n",
       "#sk-container-id-4 div.sk-label.fitted:hover label.sk-toggleable__label.fitted {\n",
       "  color: var(--sklearn-color-text);\n",
       "  background-color: var(--sklearn-color-fitted-level-2);\n",
       "}\n",
       "\n",
       "/* Estimator label */\n",
       "\n",
       "#sk-container-id-4 div.sk-label label {\n",
       "  font-family: monospace;\n",
       "  font-weight: bold;\n",
       "  display: inline-block;\n",
       "  line-height: 1.2em;\n",
       "}\n",
       "\n",
       "#sk-container-id-4 div.sk-label-container {\n",
       "  text-align: center;\n",
       "}\n",
       "\n",
       "/* Estimator-specific */\n",
       "#sk-container-id-4 div.sk-estimator {\n",
       "  font-family: monospace;\n",
       "  border: 1px dotted var(--sklearn-color-border-box);\n",
       "  border-radius: 0.25em;\n",
       "  box-sizing: border-box;\n",
       "  margin-bottom: 0.5em;\n",
       "  /* unfitted */\n",
       "  background-color: var(--sklearn-color-unfitted-level-0);\n",
       "}\n",
       "\n",
       "#sk-container-id-4 div.sk-estimator.fitted {\n",
       "  /* fitted */\n",
       "  background-color: var(--sklearn-color-fitted-level-0);\n",
       "}\n",
       "\n",
       "/* on hover */\n",
       "#sk-container-id-4 div.sk-estimator:hover {\n",
       "  /* unfitted */\n",
       "  background-color: var(--sklearn-color-unfitted-level-2);\n",
       "}\n",
       "\n",
       "#sk-container-id-4 div.sk-estimator.fitted:hover {\n",
       "  /* fitted */\n",
       "  background-color: var(--sklearn-color-fitted-level-2);\n",
       "}\n",
       "\n",
       "/* Specification for estimator info (e.g. \"i\" and \"?\") */\n",
       "\n",
       "/* Common style for \"i\" and \"?\" */\n",
       "\n",
       ".sk-estimator-doc-link,\n",
       "a:link.sk-estimator-doc-link,\n",
       "a:visited.sk-estimator-doc-link {\n",
       "  float: right;\n",
       "  font-size: smaller;\n",
       "  line-height: 1em;\n",
       "  font-family: monospace;\n",
       "  background-color: var(--sklearn-color-background);\n",
       "  border-radius: 1em;\n",
       "  height: 1em;\n",
       "  width: 1em;\n",
       "  text-decoration: none !important;\n",
       "  margin-left: 1ex;\n",
       "  /* unfitted */\n",
       "  border: var(--sklearn-color-unfitted-level-1) 1pt solid;\n",
       "  color: var(--sklearn-color-unfitted-level-1);\n",
       "}\n",
       "\n",
       ".sk-estimator-doc-link.fitted,\n",
       "a:link.sk-estimator-doc-link.fitted,\n",
       "a:visited.sk-estimator-doc-link.fitted {\n",
       "  /* fitted */\n",
       "  border: var(--sklearn-color-fitted-level-1) 1pt solid;\n",
       "  color: var(--sklearn-color-fitted-level-1);\n",
       "}\n",
       "\n",
       "/* On hover */\n",
       "div.sk-estimator:hover .sk-estimator-doc-link:hover,\n",
       ".sk-estimator-doc-link:hover,\n",
       "div.sk-label-container:hover .sk-estimator-doc-link:hover,\n",
       ".sk-estimator-doc-link:hover {\n",
       "  /* unfitted */\n",
       "  background-color: var(--sklearn-color-unfitted-level-3);\n",
       "  color: var(--sklearn-color-background);\n",
       "  text-decoration: none;\n",
       "}\n",
       "\n",
       "div.sk-estimator.fitted:hover .sk-estimator-doc-link.fitted:hover,\n",
       ".sk-estimator-doc-link.fitted:hover,\n",
       "div.sk-label-container:hover .sk-estimator-doc-link.fitted:hover,\n",
       ".sk-estimator-doc-link.fitted:hover {\n",
       "  /* fitted */\n",
       "  background-color: var(--sklearn-color-fitted-level-3);\n",
       "  color: var(--sklearn-color-background);\n",
       "  text-decoration: none;\n",
       "}\n",
       "\n",
       "/* Span, style for the box shown on hovering the info icon */\n",
       ".sk-estimator-doc-link span {\n",
       "  display: none;\n",
       "  z-index: 9999;\n",
       "  position: relative;\n",
       "  font-weight: normal;\n",
       "  right: .2ex;\n",
       "  padding: .5ex;\n",
       "  margin: .5ex;\n",
       "  width: min-content;\n",
       "  min-width: 20ex;\n",
       "  max-width: 50ex;\n",
       "  color: var(--sklearn-color-text);\n",
       "  box-shadow: 2pt 2pt 4pt #999;\n",
       "  /* unfitted */\n",
       "  background: var(--sklearn-color-unfitted-level-0);\n",
       "  border: .5pt solid var(--sklearn-color-unfitted-level-3);\n",
       "}\n",
       "\n",
       ".sk-estimator-doc-link.fitted span {\n",
       "  /* fitted */\n",
       "  background: var(--sklearn-color-fitted-level-0);\n",
       "  border: var(--sklearn-color-fitted-level-3);\n",
       "}\n",
       "\n",
       ".sk-estimator-doc-link:hover span {\n",
       "  display: block;\n",
       "}\n",
       "\n",
       "/* \"?\"-specific style due to the `<a>` HTML tag */\n",
       "\n",
       "#sk-container-id-4 a.estimator_doc_link {\n",
       "  float: right;\n",
       "  font-size: 1rem;\n",
       "  line-height: 1em;\n",
       "  font-family: monospace;\n",
       "  background-color: var(--sklearn-color-background);\n",
       "  border-radius: 1rem;\n",
       "  height: 1rem;\n",
       "  width: 1rem;\n",
       "  text-decoration: none;\n",
       "  /* unfitted */\n",
       "  color: var(--sklearn-color-unfitted-level-1);\n",
       "  border: var(--sklearn-color-unfitted-level-1) 1pt solid;\n",
       "}\n",
       "\n",
       "#sk-container-id-4 a.estimator_doc_link.fitted {\n",
       "  /* fitted */\n",
       "  border: var(--sklearn-color-fitted-level-1) 1pt solid;\n",
       "  color: var(--sklearn-color-fitted-level-1);\n",
       "}\n",
       "\n",
       "/* On hover */\n",
       "#sk-container-id-4 a.estimator_doc_link:hover {\n",
       "  /* unfitted */\n",
       "  background-color: var(--sklearn-color-unfitted-level-3);\n",
       "  color: var(--sklearn-color-background);\n",
       "  text-decoration: none;\n",
       "}\n",
       "\n",
       "#sk-container-id-4 a.estimator_doc_link.fitted:hover {\n",
       "  /* fitted */\n",
       "  background-color: var(--sklearn-color-fitted-level-3);\n",
       "}\n",
       "</style><div id=\"sk-container-id-4\" class=\"sk-top-container\"><div class=\"sk-text-repr-fallback\"><pre>GridSearchCV(estimator=RandomForestClassifier(), n_jobs=-1,\n",
       "             param_grid={&#x27;class_weight&#x27;: [{0: 1, 1: 1}, {0: 1, 1: 10},\n",
       "                                          {0: 1, 1: 100}, {0: 10, 1: 1}],\n",
       "                         &#x27;max_depth&#x27;: [8, 16, 32, None],\n",
       "                         &#x27;max_features&#x27;: [&#x27;sqrt&#x27;, &#x27;log2&#x27;, 0.3],\n",
       "                         &#x27;n_estimators&#x27;: [10, 100, 1000],\n",
       "                         &#x27;random_state&#x27;: [36]},\n",
       "             scoring=&#x27;roc_auc&#x27;)</pre><b>In a Jupyter environment, please rerun this cell to show the HTML representation or trust the notebook. <br />On GitHub, the HTML representation is unable to render, please try loading this page with nbviewer.org.</b></div><div class=\"sk-container\" hidden><div class=\"sk-item sk-dashed-wrapped\"><div class=\"sk-label-container\"><div class=\"sk-label fitted sk-toggleable\"><input class=\"sk-toggleable__control sk-hidden--visually\" id=\"sk-estimator-id-6\" type=\"checkbox\" ><label for=\"sk-estimator-id-6\" class=\"sk-toggleable__label fitted sk-toggleable__label-arrow fitted\">&nbsp;&nbsp;GridSearchCV<a class=\"sk-estimator-doc-link fitted\" rel=\"noreferrer\" target=\"_blank\" href=\"https://scikit-learn.org/1.4/modules/generated/sklearn.model_selection.GridSearchCV.html\">?<span>Documentation for GridSearchCV</span></a><span class=\"sk-estimator-doc-link fitted\">i<span>Fitted</span></span></label><div class=\"sk-toggleable__content fitted\"><pre>GridSearchCV(estimator=RandomForestClassifier(), n_jobs=-1,\n",
       "             param_grid={&#x27;class_weight&#x27;: [{0: 1, 1: 1}, {0: 1, 1: 10},\n",
       "                                          {0: 1, 1: 100}, {0: 10, 1: 1}],\n",
       "                         &#x27;max_depth&#x27;: [8, 16, 32, None],\n",
       "                         &#x27;max_features&#x27;: [&#x27;sqrt&#x27;, &#x27;log2&#x27;, 0.3],\n",
       "                         &#x27;n_estimators&#x27;: [10, 100, 1000],\n",
       "                         &#x27;random_state&#x27;: [36]},\n",
       "             scoring=&#x27;roc_auc&#x27;)</pre></div> </div></div><div class=\"sk-parallel\"><div class=\"sk-parallel-item\"><div class=\"sk-item\"><div class=\"sk-label-container\"><div class=\"sk-label fitted sk-toggleable\"><input class=\"sk-toggleable__control sk-hidden--visually\" id=\"sk-estimator-id-7\" type=\"checkbox\" ><label for=\"sk-estimator-id-7\" class=\"sk-toggleable__label fitted sk-toggleable__label-arrow fitted\">estimator: RandomForestClassifier</label><div class=\"sk-toggleable__content fitted\"><pre>RandomForestClassifier()</pre></div> </div></div><div class=\"sk-serial\"><div class=\"sk-item\"><div class=\"sk-estimator fitted sk-toggleable\"><input class=\"sk-toggleable__control sk-hidden--visually\" id=\"sk-estimator-id-8\" type=\"checkbox\" ><label for=\"sk-estimator-id-8\" class=\"sk-toggleable__label fitted sk-toggleable__label-arrow fitted\">&nbsp;RandomForestClassifier<a class=\"sk-estimator-doc-link fitted\" rel=\"noreferrer\" target=\"_blank\" href=\"https://scikit-learn.org/1.4/modules/generated/sklearn.ensemble.RandomForestClassifier.html\">?<span>Documentation for RandomForestClassifier</span></a></label><div class=\"sk-toggleable__content fitted\"><pre>RandomForestClassifier()</pre></div> </div></div></div></div></div></div></div></div></div>"
      ],
      "text/plain": [
       "GridSearchCV(estimator=RandomForestClassifier(), n_jobs=-1,\n",
       "             param_grid={'class_weight': [{0: 1, 1: 1}, {0: 1, 1: 10},\n",
       "                                          {0: 1, 1: 100}, {0: 10, 1: 1}],\n",
       "                         'max_depth': [8, 16, 32, None],\n",
       "                         'max_features': ['sqrt', 'log2', 0.3],\n",
       "                         'n_estimators': [10, 100, 1000],\n",
       "                         'random_state': [36]},\n",
       "             scoring='roc_auc')"
      ]
     },
     "execution_count": 77,
     "metadata": {},
     "output_type": "execute_result"
    }
   ],
   "source": [
    "grid_search = GridSearchCV(RandomForestClassifier(), parameter_grid, n_jobs=-1, refit=True, verbose=0, scoring='roc_auc',)\n",
    "grid_search.fit(X_train,y_train)"
   ]
  },
  {
   "cell_type": "markdown",
   "id": "4355b4c7",
   "metadata": {},
   "source": [
    "After comparing all 144 candidate models the following hyper parameters are deemed to result in the best AUC-ROC score:"
   ]
  },
  {
   "cell_type": "code",
   "execution_count": 78,
   "id": "dbd12201",
   "metadata": {},
   "outputs": [
    {
     "name": "stdout",
     "output_type": "stream",
     "text": [
      "{'class_weight': {0: 1, 1: 1}, 'max_depth': 8, 'max_features': 'log2', 'n_estimators': 1000, 'random_state': 36}\n"
     ]
    }
   ],
   "source": [
    "print(grid_search.best_params_)"
   ]
  },
  {
   "cell_type": "markdown",
   "id": "b915af82",
   "metadata": {},
   "source": [
    "Predictions are made by the model created with these selected parameters. \n",
    "\n",
    "The results of these predictions are evaluated using a confusion matrix, classification report, and a AUC-ROC score:"
   ]
  },
  {
   "cell_type": "code",
   "execution_count": 79,
   "id": "c2c63a80",
   "metadata": {},
   "outputs": [],
   "source": [
    "grid_search_predict = grid_search.predict(X_test)"
   ]
  },
  {
   "cell_type": "code",
   "execution_count": 80,
   "id": "527a97e9",
   "metadata": {},
   "outputs": [
    {
     "data": {
      "text/plain": [
       "Text(47.25, 0.5, 'Actual')"
      ]
     },
     "execution_count": 80,
     "metadata": {},
     "output_type": "execute_result"
    },
    {
     "data": {
      "image/png": "[encoded data removed]",
      "text/plain": [
       "<Figure size 640x480 with 2 Axes>"
      ]
     },
     "metadata": {},
     "output_type": "display_data"
    }
   ],
   "source": [
    "sns.heatmap(confusion_matrix(y_test, grid_search_predict),annot=True,cmap='crest',fmt='g')\n",
    "plt.title('Confusion Matrix for Grid Search Optimized Random Forest')\n",
    "plt.xlabel('Predicted')\n",
    "plt.ylabel('Actual')"
   ]
  },
  {
   "cell_type": "code",
   "execution_count": 81,
   "id": "5880eff8",
   "metadata": {},
   "outputs": [
    {
     "name": "stdout",
     "output_type": "stream",
     "text": [
      "              precision    recall  f1-score   support\n",
      "\n",
      "           0       0.86      0.99      0.92       371\n",
      "           1       0.80      0.11      0.20        70\n",
      "\n",
      "    accuracy                           0.85       441\n",
      "   macro avg       0.83      0.55      0.56       441\n",
      "weighted avg       0.85      0.85      0.81       441\n",
      "\n"
     ]
    }
   ],
   "source": [
    "print(classification_report(y_test,grid_search_predict))"
   ]
  },
  {
   "cell_type": "code",
   "execution_count": 82,
   "id": "f221845b",
   "metadata": {},
   "outputs": [
    {
     "data": {
      "text/plain": [
       "0.817"
      ]
     },
     "execution_count": 82,
     "metadata": {},
     "output_type": "execute_result"
    }
   ],
   "source": [
    "np.round(roc_auc_score(y_test,grid_search.predict_proba(X_test)[:, 1]),3)"
   ]
  },
  {
   "cell_type": "markdown",
   "id": "f1ec8e3a",
   "metadata": {},
   "source": [
    "This model has a **ROC-AUC score of 0.817**, meaning no improvement over the default hyperparameters. The grid search could not optimize the default random forest classifier futher. As a result, the default random forest classifier will be used as the predictive model.\n",
    "\n",
    "---\n",
    "\n",
    "# Application\n",
    "\n",
    "## Feature Importance\n",
    "\n",
    "One goal of the project is to identify which variables from the data set offer the most predictive power for employee attrition.\n",
    "\n",
    "The list below is the top 10 most importance features to the predictive model:"
   ]
  },
  {
   "cell_type": "code",
   "execution_count": 83,
   "id": "bf04870e",
   "metadata": {},
   "outputs": [
    {
     "data": {
      "text/html": [
       "<div>\n",
       "<style scoped>\n",
       "    .dataframe tbody tr th:only-of-type {\n",
       "        vertical-align: middle;\n",
       "    }\n",
       "\n",
       "    .dataframe tbody tr th {\n",
       "        vertical-align: top;\n",
       "    }\n",
       "\n",
       "    .dataframe thead th {\n",
       "        text-align: right;\n",
       "    }\n",
       "</style>\n",
       "<table border=\"1\" class=\"dataframe\">\n",
       "  <thead>\n",
       "    <tr style=\"text-align: right;\">\n",
       "      <th></th>\n",
       "      <th>Importance</th>\n",
       "    </tr>\n",
       "  </thead>\n",
       "  <tbody>\n",
       "    <tr>\n",
       "      <th>MonthlyIncome</th>\n",
       "      <td>0.089</td>\n",
       "    </tr>\n",
       "    <tr>\n",
       "      <th>MonthlyRate</th>\n",
       "      <td>0.061</td>\n",
       "    </tr>\n",
       "    <tr>\n",
       "      <th>DailyRate</th>\n",
       "      <td>0.055</td>\n",
       "    </tr>\n",
       "    <tr>\n",
       "      <th>TotalWorkingYears</th>\n",
       "      <td>0.052</td>\n",
       "    </tr>\n",
       "    <tr>\n",
       "      <th>DistanceFromHome</th>\n",
       "      <td>0.051</td>\n",
       "    </tr>\n",
       "    <tr>\n",
       "      <th>HourlyRate</th>\n",
       "      <td>0.050</td>\n",
       "    </tr>\n",
       "    <tr>\n",
       "      <th>OverTime</th>\n",
       "      <td>0.047</td>\n",
       "    </tr>\n",
       "    <tr>\n",
       "      <th>YearsAtCompany</th>\n",
       "      <td>0.043</td>\n",
       "    </tr>\n",
       "    <tr>\n",
       "      <th>PercentSalaryHike</th>\n",
       "      <td>0.040</td>\n",
       "    </tr>\n",
       "    <tr>\n",
       "      <th>StockOptionLevel</th>\n",
       "      <td>0.037</td>\n",
       "    </tr>\n",
       "  </tbody>\n",
       "</table>\n",
       "</div>"
      ],
      "text/plain": [
       "                   Importance\n",
       "MonthlyIncome           0.089\n",
       "MonthlyRate             0.061\n",
       "DailyRate               0.055\n",
       "TotalWorkingYears       0.052\n",
       "DistanceFromHome        0.051\n",
       "HourlyRate              0.050\n",
       "OverTime                0.047\n",
       "YearsAtCompany          0.043\n",
       "PercentSalaryHike       0.040\n",
       "StockOptionLevel        0.037"
      ]
     },
     "execution_count": 83,
     "metadata": {},
     "output_type": "execute_result"
    }
   ],
   "source": [
    "feature_importance = pd.DataFrame(np.round(random_forest.feature_importances_,3),employee_data_final.columns[1:],columns=['Importance'])\n",
    "feature_importance.sort_values('Importance',ascending=False)[:10]"
   ]
  },
  {
   "cell_type": "markdown",
   "id": "a832179d",
   "metadata": {},
   "source": [
    "It appears that the employee **monthly income** variable is most significant to employee attrition, but not significantly so. As a result, employee attrition is best explained using a **combination of many factors**."
   ]
  },
  {
   "cell_type": "markdown",
   "id": "3bdab242",
   "metadata": {},
   "source": [
    "## Predictive Model Interactive Application\n",
    "\n",
    "An interactive application is provided to allow user input of any combination of values to generate a prediction of employee attrition using the created model.\n",
    "\n",
    "Imports for the GUI elements:"
   ]
  },
  {
   "cell_type": "code",
   "execution_count": 84,
   "id": "efcea0e7",
   "metadata": {},
   "outputs": [],
   "source": [
    "import ipywidgets as widgets\n",
    "from IPython.display import display"
   ]
  },
  {
   "cell_type": "markdown",
   "id": "dc2ee1cb",
   "metadata": {},
   "source": [
    "A method that accepts input from the GUI, formats it for use in the model, then generates a prediction and displays the result:"
   ]
  },
  {
   "cell_type": "code",
   "execution_count": 85,
   "id": "ff68b50c",
   "metadata": {},
   "outputs": [],
   "source": [
    "def predict_attrition(button):\n",
    "    attribute_list = [travel_widget.value, daily_rate_widget.value, department_widget.value, distance_widget.value, education_widget.value, field_widget.value, environment_widget.value, hourly_widget.value, involvement_widget.value, level_widget.value, title_widget.value,  satisfaction_widget.value, income_widget.value, monthly_widget.value, companies_widget.value, overtime_widget.value, raise_widget.value, rating_widget.value, relationship_widget.value, stock_widget.value, working_widget.value, training_widget.value, balance_widget.value, company_widget.value, role_widget.value, promotion_widget.value, manager_widget.value]\n",
    "    input_data = pd.DataFrame(data=[attribute_list],columns=employee_data.drop(columns=['Attrition']).columns)\n",
    "    input_data = pd.concat([input_data,employee_data.drop(columns=['Attrition'])])\n",
    "    input_data = pd.get_dummies(data=input_data,columns=['Department','EducationField','JobRole'],drop_first=True)\n",
    "    \n",
    "    if random_forest.predict(input_data[:1])[0] == 0:\n",
    "        print('This employee is predicted to stay with the company')\n",
    "    else:\n",
    "        print('This employee is predicted to leave the company' )\n",
    "    return"
   ]
  },
  {
   "cell_type": "markdown",
   "id": "b8d70c63",
   "metadata": {},
   "source": [
    "Create the interactive elements:"
   ]
  },
  {
   "cell_type": "code",
   "execution_count": 86,
   "id": "1aa7615c",
   "metadata": {},
   "outputs": [],
   "source": [
    "travel_widget = widgets.Dropdown(options={'None': 0, 'Rarely': 1, 'Frequently': 2}, description='Travel:', style=dict(description_width='initial'), layout=dict(width='400px'))\n",
    "daily_rate_widget = widgets.IntSlider(min=100, max=1500, description='Daily rate:', style=dict(description_width='initial'), layout=dict(width='400px'))\n",
    "distance_widget = widgets.IntSlider(min=1, max=30, description='Distance from home:',style=dict(description_width='initial'), layout=dict(width='400px'))\n",
    "education_widget = widgets.IntSlider(min=1, max=5, description='Level of education:', style=dict(description_width='initial'), layout=dict(width='400px'))\n",
    "environment_widget = widgets.IntSlider(min=1, max=4, description='Work environment satisfaction:', style=dict(description_width='initial'), layout=dict(width='400px'))\n",
    "hourly_widget = widgets.IntSlider(min=30, max=100, description='Employee hourly rate:', style=dict(description_width='initial'), layout=dict(width='400px'))\n",
    "involvement_widget = widgets.IntSlider(min=1, max=4, description='Job involvement:', style=dict(description_width='initial'), layout=dict(width='400px'))\n",
    "level_widget = widgets.IntSlider(min=1, max=5, description='Job level:', style=dict(description_width='initial'), layout=dict(width='400px'))\n",
    "satisfaction_widget = widgets.IntSlider(min=1, max=4, description='Job satisfaction:', style=dict(description_width='initial'), layout=dict(width='400px'))\n",
    "income_widget = widgets.IntSlider(min=1000, max=20000, description='Monthly income:', style=dict(description_width='initial'), layout=dict(width='400px'))\n",
    "monthly_widget = widgets.IntSlider(min=2000, max=27000, description='Employee monthly rate:', style=dict(description_width='initial'), layout=dict(width='400px'))\n",
    "companies_widget = widgets.IntSlider(min=0, max=10, description='Total companies worked:', style=dict(description_width='initial'), layout=dict(width='400px'))\n",
    "overtime_widget = widgets.Dropdown(options={'No': 0, 'Yes': 1},description='Works overtime:', style=dict(description_width='initial'), layout=dict(width='400px'))\n",
    "raise_widget = widgets.IntSlider(min=11, max=25, description='Last raise(percent):', style=dict(description_width='initial'), layout=dict(width='400px'))\n",
    "rating_widget = widgets.IntSlider(min=1, max=4, description='Performance rating:', style=dict(description_width='initial'), layout=dict(width='400px'))\n",
    "relationship_widget = widgets.IntSlider(min=1, max=4, description='Relationship satisfaction:', style=dict(description_width='initial'), layout=dict(width='400px'))\n",
    "stock_widget = widgets.IntSlider(min=0, max=3, description='Stock option level:', style=dict(description_width='initial'), layout=dict(width='400px'))\n",
    "working_widget = widgets.IntSlider(min=0, max=40, description='Total working years:', style=dict(description_width='initial'), layout=dict(width='400px'))\n",
    "training_widget = widgets.IntSlider(min=0, max=6, description='Trainings last year:', style=dict(description_width='initial'), layout=dict(width='400px'))\n",
    "balance_widget = widgets.IntSlider(min=1, max=4, description='Work-life balance:', style=dict(description_width='initial'), layout=dict(width='400px'))\n",
    "company_widget = widgets.IntSlider(min=0, max=40, description='Years at company:', style=dict(description_width='initial'), layout=dict(width='400px'))\n",
    "role_widget = widgets.IntSlider(min=0, max=18, description='Years in current role:', style=dict(description_width='initial'), layout=dict(width='400px'))\n",
    "promotion_widget = widgets.IntSlider(min=0, max=15, description='Years since promotion:', style=dict(description_width='initial'), layout=dict(width='400px'))\n",
    "manager_widget = widgets.IntSlider(min=0, max=17, description='Years with current manager:', style=dict(description_width='initial'), layout=dict(width='400px'))\n",
    "department_widget = widgets.Dropdown(options=['Sales', 'Research & Development', 'Human Resources'],description='Department:', style=dict(description_width='initial'), layout=dict(width='400px'))\n",
    "field_widget = widgets.Dropdown(options=['Life Sciences', 'Other', 'Medical', 'Marketing', 'Technical Degree', 'Human Resources'],description='Field:', style=dict(description_width='initial'), layout=dict(width='400px'))\n",
    "title_widget = widgets.Dropdown(options=['Sales Executive', 'Research Scientist', 'Laboratory Technician', 'Manufacturing Director', 'Healthcare Representative', 'Manager', 'Sales Representative', 'Research Director', 'Human Resources'],description='Job title:', style=dict(description_width='initial'), layout=dict(width='400px'))\n",
    "submit_button = widgets.Button(description = 'Predict!')\n",
    "submit_button.on_click(predict_attrition)"
   ]
  },
  {
   "cell_type": "markdown",
   "id": "dee32162",
   "metadata": {},
   "source": [
    "Display the interactive elements:\n",
    "\n",
    "To use the application, simply use the drop down menus and sliders to enter the desired values. Once all values are selected, press the predict button to generate a prediction from the model for employee attrition."
   ]
  },
  {
   "cell_type": "code",
   "execution_count": 87,
   "id": "8f70e346",
   "metadata": {},
   "outputs": [
    {
     "data": {
      "application/vnd.jupyter.widget-view+json": {
       "model_id": "178720aeefb34838942154283ab7fb51",
       "version_major": 2,
       "version_minor": 0
      },
      "text/plain": [
       "Dropdown(description='Travel:', layout=Layout(width='400px'), options={'None': 0, 'Rarely': 1, 'Frequently': 2…"
      ]
     },
     "metadata": {},
     "output_type": "display_data"
    },
    {
     "data": {
      "application/vnd.jupyter.widget-view+json": {
       "model_id": "e3e129af117b41a0a31020c12d96f5e7",
       "version_major": 2,
       "version_minor": 0
      },
      "text/plain": [
       "IntSlider(value=100, description='Daily rate:', layout=Layout(width='400px'), max=1500, min=100, style=SliderS…"
      ]
     },
     "metadata": {},
     "output_type": "display_data"
    },
    {
     "data": {
      "application/vnd.jupyter.widget-view+json": {
       "model_id": "d92dd26da7a149e7af552a5cbc5a3550",
       "version_major": 2,
       "version_minor": 0
      },
      "text/plain": [
       "IntSlider(value=1, description='Distance from home:', layout=Layout(width='400px'), max=30, min=1, style=Slide…"
      ]
     },
     "metadata": {},
     "output_type": "display_data"
    },
    {
     "data": {
      "application/vnd.jupyter.widget-view+json": {
       "model_id": "39449275a0ed4167829d282979a0011e",
       "version_major": 2,
       "version_minor": 0
      },
      "text/plain": [
       "IntSlider(value=1, description='Level of education:', layout=Layout(width='400px'), max=5, min=1, style=Slider…"
      ]
     },
     "metadata": {},
     "output_type": "display_data"
    },
    {
     "data": {
      "application/vnd.jupyter.widget-view+json": {
       "model_id": "f587b7790e8447278ef74c844dcd7301",
       "version_major": 2,
       "version_minor": 0
      },
      "text/plain": [
       "IntSlider(value=1, description='Work environment satisfaction:', layout=Layout(width='400px'), max=4, min=1, s…"
      ]
     },
     "metadata": {},
     "output_type": "display_data"
    },
    {
     "data": {
      "application/vnd.jupyter.widget-view+json": {
       "model_id": "a95327a0255d4c3b8ee8a77c29918901",
       "version_major": 2,
       "version_minor": 0
      },
      "text/plain": [
       "IntSlider(value=30, description='Employee hourly rate:', layout=Layout(width='400px'), min=30, style=SliderSty…"
      ]
     },
     "metadata": {},
     "output_type": "display_data"
    },
    {
     "data": {
      "application/vnd.jupyter.widget-view+json": {
       "model_id": "6c7bf3a64fcb4a949bd912f8ba5af01a",
       "version_major": 2,
       "version_minor": 0
      },
      "text/plain": [
       "IntSlider(value=1, description='Job involvement:', layout=Layout(width='400px'), max=4, min=1, style=SliderSty…"
      ]
     },
     "metadata": {},
     "output_type": "display_data"
    },
    {
     "data": {
      "application/vnd.jupyter.widget-view+json": {
       "model_id": "8b9f20aa3d214027845c10b805256a12",
       "version_major": 2,
       "version_minor": 0
      },
      "text/plain": [
       "IntSlider(value=1, description='Job level:', layout=Layout(width='400px'), max=5, min=1, style=SliderStyle(des…"
      ]
     },
     "metadata": {},
     "output_type": "display_data"
    },
    {
     "data": {
      "application/vnd.jupyter.widget-view+json": {
       "model_id": "c2e8aeecca384cb2bf39b64594bc830a",
       "version_major": 2,
       "version_minor": 0
      },
      "text/plain": [
       "IntSlider(value=1, description='Job satisfaction:', layout=Layout(width='400px'), max=4, min=1, style=SliderSt…"
      ]
     },
     "metadata": {},
     "output_type": "display_data"
    },
    {
     "data": {
      "application/vnd.jupyter.widget-view+json": {
       "model_id": "17eb93350e544f7f9d52b0f1acd953c8",
       "version_major": 2,
       "version_minor": 0
      },
      "text/plain": [
       "IntSlider(value=1000, description='Monthly income:', layout=Layout(width='400px'), max=20000, min=1000, style=…"
      ]
     },
     "metadata": {},
     "output_type": "display_data"
    },
    {
     "data": {
      "application/vnd.jupyter.widget-view+json": {
       "model_id": "f6f1a89c921b4179b3a072806c597abd",
       "version_major": 2,
       "version_minor": 0
      },
      "text/plain": [
       "IntSlider(value=2000, description='Employee monthly rate:', layout=Layout(width='400px'), max=27000, min=2000,…"
      ]
     },
     "metadata": {},
     "output_type": "display_data"
    },
    {
     "data": {
      "application/vnd.jupyter.widget-view+json": {
       "model_id": "1edb8a48e53944549d08a79c9f16df9b",
       "version_major": 2,
       "version_minor": 0
      },
      "text/plain": [
       "IntSlider(value=0, description='Total companies worked:', layout=Layout(width='400px'), max=10, style=SliderSt…"
      ]
     },
     "metadata": {},
     "output_type": "display_data"
    },
    {
     "data": {
      "application/vnd.jupyter.widget-view+json": {
       "model_id": "8a06fed898c04d84bb5a17e5fd859c05",
       "version_major": 2,
       "version_minor": 0
      },
      "text/plain": [
       "Dropdown(description='Works overtime:', layout=Layout(width='400px'), options={'No': 0, 'Yes': 1}, style=Descr…"
      ]
     },
     "metadata": {},
     "output_type": "display_data"
    },
    {
     "data": {
      "application/vnd.jupyter.widget-view+json": {
       "model_id": "151289198d554d5e865c62dfca4d8260",
       "version_major": 2,
       "version_minor": 0
      },
      "text/plain": [
       "IntSlider(value=11, description='Last raise(percent):', layout=Layout(width='400px'), max=25, min=11, style=Sl…"
      ]
     },
     "metadata": {},
     "output_type": "display_data"
    },
    {
     "data": {
      "application/vnd.jupyter.widget-view+json": {
       "model_id": "12ac23f3dea24aef9e738ef2aaf5b8eb",
       "version_major": 2,
       "version_minor": 0
      },
      "text/plain": [
       "IntSlider(value=1, description='Performance rating:', layout=Layout(width='400px'), max=4, min=1, style=Slider…"
      ]
     },
     "metadata": {},
     "output_type": "display_data"
    },
    {
     "data": {
      "application/vnd.jupyter.widget-view+json": {
       "model_id": "33a814af66454abc84e699d56de43b04",
       "version_major": 2,
       "version_minor": 0
      },
      "text/plain": [
       "IntSlider(value=1, description='Relationship satisfaction:', layout=Layout(width='400px'), max=4, min=1, style…"
      ]
     },
     "metadata": {},
     "output_type": "display_data"
    },
    {
     "data": {
      "application/vnd.jupyter.widget-view+json": {
       "model_id": "47324832e633433f999cf80430649986",
       "version_major": 2,
       "version_minor": 0
      },
      "text/plain": [
       "IntSlider(value=0, description='Stock option level:', layout=Layout(width='400px'), max=3, style=SliderStyle(d…"
      ]
     },
     "metadata": {},
     "output_type": "display_data"
    },
    {
     "data": {
      "application/vnd.jupyter.widget-view+json": {
       "model_id": "bb78b739e11a41f8afd2b90275abc424",
       "version_major": 2,
       "version_minor": 0
      },
      "text/plain": [
       "IntSlider(value=0, description='Total working years:', layout=Layout(width='400px'), max=40, style=SliderStyle…"
      ]
     },
     "metadata": {},
     "output_type": "display_data"
    },
    {
     "data": {
      "application/vnd.jupyter.widget-view+json": {
       "model_id": "12f3b23b1fd4476b8e7e4b1273eba050",
       "version_major": 2,
       "version_minor": 0
      },
      "text/plain": [
       "IntSlider(value=0, description='Trainings last year:', layout=Layout(width='400px'), max=6, style=SliderStyle(…"
      ]
     },
     "metadata": {},
     "output_type": "display_data"
    },
    {
     "data": {
      "application/vnd.jupyter.widget-view+json": {
       "model_id": "3569ceb571e84bf6b31dad9b094a4c48",
       "version_major": 2,
       "version_minor": 0
      },
      "text/plain": [
       "IntSlider(value=1, description='Work-life balance:', layout=Layout(width='400px'), max=4, min=1, style=SliderS…"
      ]
     },
     "metadata": {},
     "output_type": "display_data"
    },
    {
     "data": {
      "application/vnd.jupyter.widget-view+json": {
       "model_id": "d65e54721ae64f72ad91cce8175b25e7",
       "version_major": 2,
       "version_minor": 0
      },
      "text/plain": [
       "IntSlider(value=0, description='Years at company:', layout=Layout(width='400px'), max=40, style=SliderStyle(de…"
      ]
     },
     "metadata": {},
     "output_type": "display_data"
    },
    {
     "data": {
      "application/vnd.jupyter.widget-view+json": {
       "model_id": "8bc6648d5c6942ccafbc983b0fdcd11a",
       "version_major": 2,
       "version_minor": 0
      },
      "text/plain": [
       "IntSlider(value=0, description='Years in current role:', layout=Layout(width='400px'), max=18, style=SliderSty…"
      ]
     },
     "metadata": {},
     "output_type": "display_data"
    },
    {
     "data": {
      "application/vnd.jupyter.widget-view+json": {
       "model_id": "7ec69b852a3b40fe937aa3c18a055550",
       "version_major": 2,
       "version_minor": 0
      },
      "text/plain": [
       "IntSlider(value=0, description='Years since promotion:', layout=Layout(width='400px'), max=15, style=SliderSty…"
      ]
     },
     "metadata": {},
     "output_type": "display_data"
    },
    {
     "data": {
      "application/vnd.jupyter.widget-view+json": {
       "model_id": "26d3ac2de66b458ead02f4ab26e69ade",
       "version_major": 2,
       "version_minor": 0
      },
      "text/plain": [
       "IntSlider(value=0, description='Years with current manager:', layout=Layout(width='400px'), max=17, style=Slid…"
      ]
     },
     "metadata": {},
     "output_type": "display_data"
    },
    {
     "data": {
      "application/vnd.jupyter.widget-view+json": {
       "model_id": "0eff9aacd0744ba4a053b388d8719dea",
       "version_major": 2,
       "version_minor": 0
      },
      "text/plain": [
       "Dropdown(description='Department:', layout=Layout(width='400px'), options=('Sales', 'Research & Development', …"
      ]
     },
     "metadata": {},
     "output_type": "display_data"
    },
    {
     "data": {
      "application/vnd.jupyter.widget-view+json": {
       "model_id": "02375a3d8e8f4fd19d1b42dda3132d27",
       "version_major": 2,
       "version_minor": 0
      },
      "text/plain": [
       "Dropdown(description='Field:', layout=Layout(width='400px'), options=('Life Sciences', 'Other', 'Medical', 'Ma…"
      ]
     },
     "metadata": {},
     "output_type": "display_data"
    },
    {
     "data": {
      "application/vnd.jupyter.widget-view+json": {
       "model_id": "230328637eae4a3fb03c91fb91895603",
       "version_major": 2,
       "version_minor": 0
      },
      "text/plain": [
       "Dropdown(description='Job title:', layout=Layout(width='400px'), options=('Sales Executive', 'Research Scienti…"
      ]
     },
     "metadata": {},
     "output_type": "display_data"
    },
    {
     "data": {
      "application/vnd.jupyter.widget-view+json": {
       "model_id": "380511952c1e429f84f41eed44f47d8f",
       "version_major": 2,
       "version_minor": 0
      },
      "text/plain": [
       "Button(description='Predict!', style=ButtonStyle())"
      ]
     },
     "metadata": {},
     "output_type": "display_data"
    }
   ],
   "source": [
    "display(travel_widget, daily_rate_widget, distance_widget, education_widget, environment_widget, hourly_widget, involvement_widget, level_widget, satisfaction_widget, income_widget, monthly_widget, companies_widget, overtime_widget, raise_widget, rating_widget, relationship_widget, stock_widget, working_widget, training_widget, balance_widget, company_widget, role_widget, promotion_widget, manager_widget, department_widget, field_widget, title_widget,submit_button)"
   ]
  },
  {
   "cell_type": "markdown",
   "id": "88d59d9e",
   "metadata": {},
   "source": [
    "---\n",
    "# Limitations and Further Improvements\n",
    "\n",
    "The current model is limited by exclusion of some variables from the training data: the use of sensitive employee information, such as age, gender, etc. would most likely result in a more accurate model, but would mean the predictions generated could not be used as a basis for decisions regarding invidual employees.\n",
    "\n",
    "The current model offers a reasonable AUC-ROC score, but improving precision of the attrition=1 class would be desireable. This could be attempted by changing the scoring of the grid parameter to reward precision, or using undersampling or oversampling techniques. \n",
    "\n",
    "Other possible improvements include reducing the total number of features could improve the model's performance. Using different machine learning algorithms or deep learning could also potentially result in an improved model."
   ]
  },
  {
   "cell_type": "code",
   "execution_count": null,
   "id": "40feba22",
   "metadata": {},
   "outputs": [],
   "source": []
  },
  {
   "cell_type": "code",
   "execution_count": null,
   "id": "8cab166d",
   "metadata": {},
   "outputs": [],
   "source": []
  }
 ],
 "metadata": {
  "kernelspec": {
   "display_name": "Python 3 (ipykernel)",
   "language": "python",
   "name": "python3"
  },
  "language_info": {
   "codemirror_mode": {
    "name": "ipython",
    "version": 3
   },
   "file_extension": ".py",
   "mimetype": "text/x-python",
   "name": "python",
   "nbconvert_exporter": "python",
   "pygments_lexer": "ipython3",
   "version": "3.10.9"
  }
 },
 "nbformat": 4,
 "nbformat_minor": 5
}
